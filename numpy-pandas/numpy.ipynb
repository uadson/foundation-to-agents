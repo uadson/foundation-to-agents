{
 "cells": [
  {
   "cell_type": "markdown",
   "id": "c0f7b06c",
   "metadata": {},
   "source": [
    "# Curso Numpy - IA Academy"
   ]
  },
  {
   "cell_type": "markdown",
   "id": "1e95d26a",
   "metadata": {},
   "source": [
    "## Importar bibliotecas"
   ]
  },
  {
   "cell_type": "code",
   "execution_count": 86,
   "id": "7eac8ccb",
   "metadata": {},
   "outputs": [],
   "source": [
    "import numpy as np\n",
    "from rich import print as rprint\n",
    "import sys\n",
    "import random"
   ]
  },
  {
   "cell_type": "code",
   "execution_count": 63,
   "id": "85d316e0",
   "metadata": {},
   "outputs": [
    {
     "data": {
      "text/html": [
       "<pre style=\"white-space:pre;overflow-x:auto;line-height:normal;font-family:Menlo,'DejaVu Sans Mono',consolas,'Courier New',monospace\">Versão do Python: <span style=\"color: #008080; text-decoration-color: #008080; font-weight: bold\">3.13</span>.<span style=\"color: #008080; text-decoration-color: #008080; font-weight: bold\">5</span> <span style=\"font-weight: bold\">(</span>main, Aug  <span style=\"color: #008080; text-decoration-color: #008080; font-weight: bold\">5</span> <span style=\"color: #008080; text-decoration-color: #008080; font-weight: bold\">2025</span>, <span style=\"color: #00ff00; text-decoration-color: #00ff00; font-weight: bold\">17:25:48</span><span style=\"font-weight: bold\">)</span> <span style=\"font-weight: bold\">[</span>GCC <span style=\"color: #008080; text-decoration-color: #008080; font-weight: bold\">11.4</span>.<span style=\"color: #008080; text-decoration-color: #008080; font-weight: bold\">0</span><span style=\"font-weight: bold\">]</span>\n",
       "</pre>\n"
      ],
      "text/plain": [
       "Versão do Python: \u001b[1;36m3.13\u001b[0m.\u001b[1;36m5\u001b[0m \u001b[1m(\u001b[0mmain, Aug  \u001b[1;36m5\u001b[0m \u001b[1;36m2025\u001b[0m, \u001b[1;92m17:25:48\u001b[0m\u001b[1m)\u001b[0m \u001b[1m[\u001b[0mGCC \u001b[1;36m11.4\u001b[0m.\u001b[1;36m0\u001b[0m\u001b[1m]\u001b[0m\n"
      ]
     },
     "metadata": {},
     "output_type": "display_data"
    },
    {
     "data": {
      "text/html": [
       "<pre style=\"white-space:pre;overflow-x:auto;line-height:normal;font-family:Menlo,'DejaVu Sans Mono',consolas,'Courier New',monospace\">Versão do Numpy: <span style=\"color: #008080; text-decoration-color: #008080; font-weight: bold\">2.3</span>.<span style=\"color: #008080; text-decoration-color: #008080; font-weight: bold\">2</span>\n",
       "</pre>\n"
      ],
      "text/plain": [
       "Versão do Numpy: \u001b[1;36m2.3\u001b[0m.\u001b[1;36m2\u001b[0m\n"
      ]
     },
     "metadata": {},
     "output_type": "display_data"
    }
   ],
   "source": [
    "rprint(f\"Versão do Python: {sys.version}\")\n",
    "rprint(f\"Versão do Numpy: {np.__version__}\")"
   ]
  },
  {
   "cell_type": "markdown",
   "id": "637371f9",
   "metadata": {},
   "source": [
    "## Numpy x Listas"
   ]
  },
  {
   "cell_type": "markdown",
   "id": "b2fad29b",
   "metadata": {},
   "source": [
    "### Tamanho Fixo"
   ]
  },
  {
   "cell_type": "code",
   "execution_count": 64,
   "id": "49701341",
   "metadata": {},
   "outputs": [
    {
     "data": {
      "text/html": [
       "<pre style=\"white-space:pre;overflow-x:auto;line-height:normal;font-family:Menlo,'DejaVu Sans Mono',consolas,'Courier New',monospace\">Lista: <span style=\"font-weight: bold\">[</span><span style=\"color: #008080; text-decoration-color: #008080; font-weight: bold\">1</span>, <span style=\"color: #008080; text-decoration-color: #008080; font-weight: bold\">2</span>, <span style=\"color: #008080; text-decoration-color: #008080; font-weight: bold\">3</span>, <span style=\"color: #008080; text-decoration-color: #008080; font-weight: bold\">4</span><span style=\"font-weight: bold\">]</span>\n",
       "</pre>\n"
      ],
      "text/plain": [
       "Lista: \u001b[1m[\u001b[0m\u001b[1;36m1\u001b[0m, \u001b[1;36m2\u001b[0m, \u001b[1;36m3\u001b[0m, \u001b[1;36m4\u001b[0m\u001b[1m]\u001b[0m\n"
      ]
     },
     "metadata": {},
     "output_type": "display_data"
    },
    {
     "data": {
      "text/html": [
       "<pre style=\"white-space:pre;overflow-x:auto;line-height:normal;font-family:Menlo,'DejaVu Sans Mono',consolas,'Courier New',monospace\">Tipo: <span style=\"font-weight: bold\">&lt;</span><span style=\"color: #ff00ff; text-decoration-color: #ff00ff; font-weight: bold\">class</span><span style=\"color: #000000; text-decoration-color: #000000\"> </span><span style=\"color: #008000; text-decoration-color: #008000\">'list'</span><span style=\"font-weight: bold\">&gt;</span>\n",
       "</pre>\n"
      ],
      "text/plain": [
       "Tipo: \u001b[1m<\u001b[0m\u001b[1;95mclass\u001b[0m\u001b[39m \u001b[0m\u001b[32m'list'\u001b[0m\u001b[1m>\u001b[0m\n"
      ]
     },
     "metadata": {},
     "output_type": "display_data"
    },
    {
     "data": {
      "text/html": [
       "<pre style=\"white-space:pre;overflow-x:auto;line-height:normal;font-family:Menlo,'DejaVu Sans Mono',consolas,'Courier New',monospace\">Id: <span style=\"color: #008080; text-decoration-color: #008080; font-weight: bold\">126683998482048</span>\n",
       "</pre>\n"
      ],
      "text/plain": [
       "Id: \u001b[1;36m126683998482048\u001b[0m\n"
      ]
     },
     "metadata": {},
     "output_type": "display_data"
    },
    {
     "data": {
      "text/html": [
       "<pre style=\"white-space:pre;overflow-x:auto;line-height:normal;font-family:Menlo,'DejaVu Sans Mono',consolas,'Courier New',monospace\">Adicionando um elemento: <span style=\"font-weight: bold\">[</span><span style=\"color: #008080; text-decoration-color: #008080; font-weight: bold\">1</span>, <span style=\"color: #008080; text-decoration-color: #008080; font-weight: bold\">2</span>, <span style=\"color: #008080; text-decoration-color: #008080; font-weight: bold\">3</span>, <span style=\"color: #008080; text-decoration-color: #008080; font-weight: bold\">4</span>, <span style=\"color: #008080; text-decoration-color: #008080; font-weight: bold\">5</span><span style=\"font-weight: bold\">]</span>\n",
       "</pre>\n"
      ],
      "text/plain": [
       "Adicionando um elemento: \u001b[1m[\u001b[0m\u001b[1;36m1\u001b[0m, \u001b[1;36m2\u001b[0m, \u001b[1;36m3\u001b[0m, \u001b[1;36m4\u001b[0m, \u001b[1;36m5\u001b[0m\u001b[1m]\u001b[0m\n"
      ]
     },
     "metadata": {},
     "output_type": "display_data"
    },
    {
     "data": {
      "text/html": [
       "<pre style=\"white-space:pre;overflow-x:auto;line-height:normal;font-family:Menlo,'DejaVu Sans Mono',consolas,'Courier New',monospace\">Id: <span style=\"color: #008080; text-decoration-color: #008080; font-weight: bold\">126683998482048</span>\n",
       "</pre>\n"
      ],
      "text/plain": [
       "Id: \u001b[1;36m126683998482048\u001b[0m\n"
      ]
     },
     "metadata": {},
     "output_type": "display_data"
    }
   ],
   "source": [
    "# Listas\n",
    "\n",
    "list_a = [1, 2, 3, 4]\n",
    "\n",
    "rprint(f\"Lista: {list_a}\")\n",
    "rprint(f\"Tipo: {type(list_a)}\")\n",
    "rprint(f\"Id: {id(list_a)}\")\n",
    "# Adicionando um elemento\n",
    "list_a.append(5)\n",
    "rprint(f\"Adicionando um elemento: {list_a}\")\n",
    "# O id não é alterado\n",
    "rprint(f\"Id: {id(list_a)}\")\n"
   ]
  },
  {
   "cell_type": "code",
   "execution_count": 65,
   "id": "ead0ee04",
   "metadata": {},
   "outputs": [
    {
     "data": {
      "text/html": [
       "<pre style=\"white-space:pre;overflow-x:auto;line-height:normal;font-family:Menlo,'DejaVu Sans Mono',consolas,'Courier New',monospace\">Array: <span style=\"font-weight: bold\">[</span><span style=\"color: #008080; text-decoration-color: #008080; font-weight: bold\">1</span> <span style=\"color: #008080; text-decoration-color: #008080; font-weight: bold\">2</span> <span style=\"color: #008080; text-decoration-color: #008080; font-weight: bold\">3</span> <span style=\"color: #008080; text-decoration-color: #008080; font-weight: bold\">4</span><span style=\"font-weight: bold\">]</span>\n",
       "</pre>\n"
      ],
      "text/plain": [
       "Array: \u001b[1m[\u001b[0m\u001b[1;36m1\u001b[0m \u001b[1;36m2\u001b[0m \u001b[1;36m3\u001b[0m \u001b[1;36m4\u001b[0m\u001b[1m]\u001b[0m\n"
      ]
     },
     "metadata": {},
     "output_type": "display_data"
    },
    {
     "data": {
      "text/html": [
       "<pre style=\"white-space:pre;overflow-x:auto;line-height:normal;font-family:Menlo,'DejaVu Sans Mono',consolas,'Courier New',monospace\">Tipo: <span style=\"font-weight: bold\">&lt;</span><span style=\"color: #ff00ff; text-decoration-color: #ff00ff; font-weight: bold\">class</span><span style=\"color: #000000; text-decoration-color: #000000\"> </span><span style=\"color: #008000; text-decoration-color: #008000\">'numpy.ndarray'</span><span style=\"font-weight: bold\">&gt;</span>\n",
       "</pre>\n"
      ],
      "text/plain": [
       "Tipo: \u001b[1m<\u001b[0m\u001b[1;95mclass\u001b[0m\u001b[39m \u001b[0m\u001b[32m'numpy.ndarray'\u001b[0m\u001b[1m>\u001b[0m\n"
      ]
     },
     "metadata": {},
     "output_type": "display_data"
    },
    {
     "data": {
      "text/html": [
       "<pre style=\"white-space:pre;overflow-x:auto;line-height:normal;font-family:Menlo,'DejaVu Sans Mono',consolas,'Courier New',monospace\">Id: <span style=\"color: #008080; text-decoration-color: #008080; font-weight: bold\">126682835673104</span>\n",
       "</pre>\n"
      ],
      "text/plain": [
       "Id: \u001b[1;36m126682835673104\u001b[0m\n"
      ]
     },
     "metadata": {},
     "output_type": "display_data"
    },
    {
     "data": {
      "text/html": [
       "<pre style=\"white-space:pre;overflow-x:auto;line-height:normal;font-family:Menlo,'DejaVu Sans Mono',consolas,'Courier New',monospace\">Adicionando um elemento: <span style=\"font-weight: bold\">[</span><span style=\"color: #008080; text-decoration-color: #008080; font-weight: bold\">1</span> <span style=\"color: #008080; text-decoration-color: #008080; font-weight: bold\">2</span> <span style=\"color: #008080; text-decoration-color: #008080; font-weight: bold\">3</span> <span style=\"color: #008080; text-decoration-color: #008080; font-weight: bold\">4</span> <span style=\"color: #008080; text-decoration-color: #008080; font-weight: bold\">5</span><span style=\"font-weight: bold\">]</span>\n",
       "</pre>\n"
      ],
      "text/plain": [
       "Adicionando um elemento: \u001b[1m[\u001b[0m\u001b[1;36m1\u001b[0m \u001b[1;36m2\u001b[0m \u001b[1;36m3\u001b[0m \u001b[1;36m4\u001b[0m \u001b[1;36m5\u001b[0m\u001b[1m]\u001b[0m\n"
      ]
     },
     "metadata": {},
     "output_type": "display_data"
    },
    {
     "data": {
      "text/html": [
       "<pre style=\"white-space:pre;overflow-x:auto;line-height:normal;font-family:Menlo,'DejaVu Sans Mono',consolas,'Courier New',monospace\">Id: <span style=\"color: #008080; text-decoration-color: #008080; font-weight: bold\">126682832938896</span>\n",
       "</pre>\n"
      ],
      "text/plain": [
       "Id: \u001b[1;36m126682832938896\u001b[0m\n"
      ]
     },
     "metadata": {},
     "output_type": "display_data"
    }
   ],
   "source": [
    "# Numpy\n",
    "\n",
    "array_a = np.array([1, 2, 3, 4])\n",
    "\n",
    "rprint(f\"Array: {array_a}\")\n",
    "rprint(f\"Tipo: {type(array_a)}\")\n",
    "rprint(f\"Id: {id(array_a)}\")\n",
    "# Adicionando um elemento\n",
    "array_a = np.append(array_a, [5])\n",
    "rprint(f\"Adicionando um elemento: {array_a}\")\n",
    "# O id é alterado\n",
    "rprint(f\"Id: {id(array_a)}\")\n"
   ]
  },
  {
   "cell_type": "markdown",
   "id": "bc71fc07",
   "metadata": {},
   "source": [
    "### Tipos de dados"
   ]
  },
  {
   "cell_type": "code",
   "execution_count": 66,
   "id": "f930ce3b",
   "metadata": {},
   "outputs": [
    {
     "data": {
      "text/html": [
       "<pre style=\"white-space:pre;overflow-x:auto;line-height:normal;font-family:Menlo,'DejaVu Sans Mono',consolas,'Courier New',monospace\">Lista: <span style=\"font-weight: bold\">[</span><span style=\"color: #008080; text-decoration-color: #008080; font-weight: bold\">1</span>, <span style=\"color: #008080; text-decoration-color: #008080; font-weight: bold\">2.4</span>, <span style=\"color: #008000; text-decoration-color: #008000\">'a'</span>, <span style=\"color: #00ff00; text-decoration-color: #00ff00; font-style: italic\">True</span>, <span style=\"color: #008080; text-decoration-color: #008080; font-weight: bold\">5</span><span style=\"font-weight: bold\">]</span>\n",
       "</pre>\n"
      ],
      "text/plain": [
       "Lista: \u001b[1m[\u001b[0m\u001b[1;36m1\u001b[0m, \u001b[1;36m2.4\u001b[0m, \u001b[32m'a'\u001b[0m, \u001b[3;92mTrue\u001b[0m, \u001b[1;36m5\u001b[0m\u001b[1m]\u001b[0m\n"
      ]
     },
     "metadata": {},
     "output_type": "display_data"
    },
    {
     "data": {
      "text/html": [
       "<pre style=\"white-space:pre;overflow-x:auto;line-height:normal;font-family:Menlo,'DejaVu Sans Mono',consolas,'Courier New',monospace\">Tipo: <span style=\"font-weight: bold\">&lt;</span><span style=\"color: #ff00ff; text-decoration-color: #ff00ff; font-weight: bold\">class</span><span style=\"color: #000000; text-decoration-color: #000000\"> </span><span style=\"color: #008000; text-decoration-color: #008000\">'list'</span><span style=\"font-weight: bold\">&gt;</span>\n",
       "</pre>\n"
      ],
      "text/plain": [
       "Tipo: \u001b[1m<\u001b[0m\u001b[1;95mclass\u001b[0m\u001b[39m \u001b[0m\u001b[32m'list'\u001b[0m\u001b[1m>\u001b[0m\n"
      ]
     },
     "metadata": {},
     "output_type": "display_data"
    },
    {
     "data": {
      "text/html": [
       "<pre style=\"white-space:pre;overflow-x:auto;line-height:normal;font-family:Menlo,'DejaVu Sans Mono',consolas,'Courier New',monospace\">Id: <span style=\"color: #008080; text-decoration-color: #008080; font-weight: bold\">126684006870784</span>\n",
       "</pre>\n"
      ],
      "text/plain": [
       "Id: \u001b[1;36m126684006870784\u001b[0m\n"
      ]
     },
     "metadata": {},
     "output_type": "display_data"
    },
    {
     "data": {
      "text/html": [
       "<pre style=\"white-space:pre;overflow-x:auto;line-height:normal;font-family:Menlo,'DejaVu Sans Mono',consolas,'Courier New',monospace\">Acessando os tipo de dados da lista\n",
       "</pre>\n"
      ],
      "text/plain": [
       "Acessando os tipo de dados da lista\n"
      ]
     },
     "metadata": {},
     "output_type": "display_data"
    },
    {
     "data": {
      "text/html": [
       "<pre style=\"white-space:pre;overflow-x:auto;line-height:normal;font-family:Menlo,'DejaVu Sans Mono',consolas,'Courier New',monospace\">Tipo: <span style=\"font-weight: bold\">&lt;</span><span style=\"color: #ff00ff; text-decoration-color: #ff00ff; font-weight: bold\">class</span><span style=\"color: #000000; text-decoration-color: #000000\"> </span><span style=\"color: #008000; text-decoration-color: #008000\">'int'</span><span style=\"font-weight: bold\">&gt;</span>\n",
       "</pre>\n"
      ],
      "text/plain": [
       "Tipo: \u001b[1m<\u001b[0m\u001b[1;95mclass\u001b[0m\u001b[39m \u001b[0m\u001b[32m'int'\u001b[0m\u001b[1m>\u001b[0m\n"
      ]
     },
     "metadata": {},
     "output_type": "display_data"
    },
    {
     "data": {
      "text/html": [
       "<pre style=\"white-space:pre;overflow-x:auto;line-height:normal;font-family:Menlo,'DejaVu Sans Mono',consolas,'Courier New',monospace\">Tipo: <span style=\"font-weight: bold\">&lt;</span><span style=\"color: #ff00ff; text-decoration-color: #ff00ff; font-weight: bold\">class</span><span style=\"color: #000000; text-decoration-color: #000000\"> </span><span style=\"color: #008000; text-decoration-color: #008000\">'float'</span><span style=\"font-weight: bold\">&gt;</span>\n",
       "</pre>\n"
      ],
      "text/plain": [
       "Tipo: \u001b[1m<\u001b[0m\u001b[1;95mclass\u001b[0m\u001b[39m \u001b[0m\u001b[32m'float'\u001b[0m\u001b[1m>\u001b[0m\n"
      ]
     },
     "metadata": {},
     "output_type": "display_data"
    },
    {
     "data": {
      "text/html": [
       "<pre style=\"white-space:pre;overflow-x:auto;line-height:normal;font-family:Menlo,'DejaVu Sans Mono',consolas,'Courier New',monospace\">Tipo: <span style=\"font-weight: bold\">&lt;</span><span style=\"color: #ff00ff; text-decoration-color: #ff00ff; font-weight: bold\">class</span><span style=\"color: #000000; text-decoration-color: #000000\"> </span><span style=\"color: #008000; text-decoration-color: #008000\">'str'</span><span style=\"font-weight: bold\">&gt;</span>\n",
       "</pre>\n"
      ],
      "text/plain": [
       "Tipo: \u001b[1m<\u001b[0m\u001b[1;95mclass\u001b[0m\u001b[39m \u001b[0m\u001b[32m'str'\u001b[0m\u001b[1m>\u001b[0m\n"
      ]
     },
     "metadata": {},
     "output_type": "display_data"
    },
    {
     "data": {
      "text/html": [
       "<pre style=\"white-space:pre;overflow-x:auto;line-height:normal;font-family:Menlo,'DejaVu Sans Mono',consolas,'Courier New',monospace\">Tipo: <span style=\"font-weight: bold\">&lt;</span><span style=\"color: #ff00ff; text-decoration-color: #ff00ff; font-weight: bold\">class</span><span style=\"color: #000000; text-decoration-color: #000000\"> </span><span style=\"color: #008000; text-decoration-color: #008000\">'bool'</span><span style=\"font-weight: bold\">&gt;</span>\n",
       "</pre>\n"
      ],
      "text/plain": [
       "Tipo: \u001b[1m<\u001b[0m\u001b[1;95mclass\u001b[0m\u001b[39m \u001b[0m\u001b[32m'bool'\u001b[0m\u001b[1m>\u001b[0m\n"
      ]
     },
     "metadata": {},
     "output_type": "display_data"
    },
    {
     "data": {
      "text/html": [
       "<pre style=\"white-space:pre;overflow-x:auto;line-height:normal;font-family:Menlo,'DejaVu Sans Mono',consolas,'Courier New',monospace\">Tipo: <span style=\"font-weight: bold\">&lt;</span><span style=\"color: #ff00ff; text-decoration-color: #ff00ff; font-weight: bold\">class</span><span style=\"color: #000000; text-decoration-color: #000000\"> </span><span style=\"color: #008000; text-decoration-color: #008000\">'int'</span><span style=\"font-weight: bold\">&gt;</span>\n",
       "</pre>\n"
      ],
      "text/plain": [
       "Tipo: \u001b[1m<\u001b[0m\u001b[1;95mclass\u001b[0m\u001b[39m \u001b[0m\u001b[32m'int'\u001b[0m\u001b[1m>\u001b[0m\n"
      ]
     },
     "metadata": {},
     "output_type": "display_data"
    },
    {
     "data": {
      "text/html": [
       "<pre style=\"white-space:pre;overflow-x:auto;line-height:normal;font-family:Menlo,'DejaVu Sans Mono',consolas,'Courier New',monospace\">Adicionando um elemento: <span style=\"font-weight: bold\">[</span><span style=\"color: #008080; text-decoration-color: #008080; font-weight: bold\">1</span>, <span style=\"color: #008080; text-decoration-color: #008080; font-weight: bold\">2.4</span>, <span style=\"color: #008000; text-decoration-color: #008000\">'a'</span>, <span style=\"color: #00ff00; text-decoration-color: #00ff00; font-style: italic\">True</span>, <span style=\"color: #008080; text-decoration-color: #008080; font-weight: bold\">5</span>, <span style=\"color: #800080; text-decoration-color: #800080; font-style: italic\">None</span><span style=\"font-weight: bold\">]</span>\n",
       "</pre>\n"
      ],
      "text/plain": [
       "Adicionando um elemento: \u001b[1m[\u001b[0m\u001b[1;36m1\u001b[0m, \u001b[1;36m2.4\u001b[0m, \u001b[32m'a'\u001b[0m, \u001b[3;92mTrue\u001b[0m, \u001b[1;36m5\u001b[0m, \u001b[3;35mNone\u001b[0m\u001b[1m]\u001b[0m\n"
      ]
     },
     "metadata": {},
     "output_type": "display_data"
    },
    {
     "data": {
      "text/html": [
       "<pre style=\"white-space:pre;overflow-x:auto;line-height:normal;font-family:Menlo,'DejaVu Sans Mono',consolas,'Courier New',monospace\">Id: <span style=\"color: #008080; text-decoration-color: #008080; font-weight: bold\">126684006870784</span>\n",
       "</pre>\n"
      ],
      "text/plain": [
       "Id: \u001b[1;36m126684006870784\u001b[0m\n"
      ]
     },
     "metadata": {},
     "output_type": "display_data"
    },
    {
     "data": {
      "text/html": [
       "<pre style=\"white-space:pre;overflow-x:auto;line-height:normal;font-family:Menlo,'DejaVu Sans Mono',consolas,'Courier New',monospace\">Acessando os tipo de dados da lista\n",
       "</pre>\n"
      ],
      "text/plain": [
       "Acessando os tipo de dados da lista\n"
      ]
     },
     "metadata": {},
     "output_type": "display_data"
    },
    {
     "data": {
      "text/html": [
       "<pre style=\"white-space:pre;overflow-x:auto;line-height:normal;font-family:Menlo,'DejaVu Sans Mono',consolas,'Courier New',monospace\">Tipo: <span style=\"font-weight: bold\">&lt;</span><span style=\"color: #ff00ff; text-decoration-color: #ff00ff; font-weight: bold\">class</span><span style=\"color: #000000; text-decoration-color: #000000\"> </span><span style=\"color: #008000; text-decoration-color: #008000\">'int'</span><span style=\"font-weight: bold\">&gt;</span>\n",
       "</pre>\n"
      ],
      "text/plain": [
       "Tipo: \u001b[1m<\u001b[0m\u001b[1;95mclass\u001b[0m\u001b[39m \u001b[0m\u001b[32m'int'\u001b[0m\u001b[1m>\u001b[0m\n"
      ]
     },
     "metadata": {},
     "output_type": "display_data"
    },
    {
     "data": {
      "text/html": [
       "<pre style=\"white-space:pre;overflow-x:auto;line-height:normal;font-family:Menlo,'DejaVu Sans Mono',consolas,'Courier New',monospace\">Tipo: <span style=\"font-weight: bold\">&lt;</span><span style=\"color: #ff00ff; text-decoration-color: #ff00ff; font-weight: bold\">class</span><span style=\"color: #000000; text-decoration-color: #000000\"> </span><span style=\"color: #008000; text-decoration-color: #008000\">'float'</span><span style=\"font-weight: bold\">&gt;</span>\n",
       "</pre>\n"
      ],
      "text/plain": [
       "Tipo: \u001b[1m<\u001b[0m\u001b[1;95mclass\u001b[0m\u001b[39m \u001b[0m\u001b[32m'float'\u001b[0m\u001b[1m>\u001b[0m\n"
      ]
     },
     "metadata": {},
     "output_type": "display_data"
    },
    {
     "data": {
      "text/html": [
       "<pre style=\"white-space:pre;overflow-x:auto;line-height:normal;font-family:Menlo,'DejaVu Sans Mono',consolas,'Courier New',monospace\">Tipo: <span style=\"font-weight: bold\">&lt;</span><span style=\"color: #ff00ff; text-decoration-color: #ff00ff; font-weight: bold\">class</span><span style=\"color: #000000; text-decoration-color: #000000\"> </span><span style=\"color: #008000; text-decoration-color: #008000\">'str'</span><span style=\"font-weight: bold\">&gt;</span>\n",
       "</pre>\n"
      ],
      "text/plain": [
       "Tipo: \u001b[1m<\u001b[0m\u001b[1;95mclass\u001b[0m\u001b[39m \u001b[0m\u001b[32m'str'\u001b[0m\u001b[1m>\u001b[0m\n"
      ]
     },
     "metadata": {},
     "output_type": "display_data"
    },
    {
     "data": {
      "text/html": [
       "<pre style=\"white-space:pre;overflow-x:auto;line-height:normal;font-family:Menlo,'DejaVu Sans Mono',consolas,'Courier New',monospace\">Tipo: <span style=\"font-weight: bold\">&lt;</span><span style=\"color: #ff00ff; text-decoration-color: #ff00ff; font-weight: bold\">class</span><span style=\"color: #000000; text-decoration-color: #000000\"> </span><span style=\"color: #008000; text-decoration-color: #008000\">'bool'</span><span style=\"font-weight: bold\">&gt;</span>\n",
       "</pre>\n"
      ],
      "text/plain": [
       "Tipo: \u001b[1m<\u001b[0m\u001b[1;95mclass\u001b[0m\u001b[39m \u001b[0m\u001b[32m'bool'\u001b[0m\u001b[1m>\u001b[0m\n"
      ]
     },
     "metadata": {},
     "output_type": "display_data"
    },
    {
     "data": {
      "text/html": [
       "<pre style=\"white-space:pre;overflow-x:auto;line-height:normal;font-family:Menlo,'DejaVu Sans Mono',consolas,'Courier New',monospace\">Tipo: <span style=\"font-weight: bold\">&lt;</span><span style=\"color: #ff00ff; text-decoration-color: #ff00ff; font-weight: bold\">class</span><span style=\"color: #000000; text-decoration-color: #000000\"> </span><span style=\"color: #008000; text-decoration-color: #008000\">'int'</span><span style=\"font-weight: bold\">&gt;</span>\n",
       "</pre>\n"
      ],
      "text/plain": [
       "Tipo: \u001b[1m<\u001b[0m\u001b[1;95mclass\u001b[0m\u001b[39m \u001b[0m\u001b[32m'int'\u001b[0m\u001b[1m>\u001b[0m\n"
      ]
     },
     "metadata": {},
     "output_type": "display_data"
    },
    {
     "data": {
      "text/html": [
       "<pre style=\"white-space:pre;overflow-x:auto;line-height:normal;font-family:Menlo,'DejaVu Sans Mono',consolas,'Courier New',monospace\">Tipo: <span style=\"font-weight: bold\">&lt;</span><span style=\"color: #ff00ff; text-decoration-color: #ff00ff; font-weight: bold\">class</span><span style=\"color: #000000; text-decoration-color: #000000\"> </span><span style=\"color: #008000; text-decoration-color: #008000\">'NoneType'</span><span style=\"font-weight: bold\">&gt;</span>\n",
       "</pre>\n"
      ],
      "text/plain": [
       "Tipo: \u001b[1m<\u001b[0m\u001b[1;95mclass\u001b[0m\u001b[39m \u001b[0m\u001b[32m'NoneType'\u001b[0m\u001b[1m>\u001b[0m\n"
      ]
     },
     "metadata": {},
     "output_type": "display_data"
    }
   ],
   "source": [
    "# Listas\n",
    "\n",
    "list_a = [1, 2.4, 'a', True, 5]\n",
    "\n",
    "rprint(f\"Lista: {list_a}\")\n",
    "rprint(f\"Tipo: {type(list_a)}\")\n",
    "rprint(f\"Id: {id(list_a)}\")\n",
    "# Acessando os tipo de dados da lista\n",
    "rprint(f\"Acessando os tipo de dados da lista\")\n",
    "for i in list_a:\n",
    "    rprint(f\"Tipo: {type(i)}\")\n",
    "# Adicionando um elemento\n",
    "list_a.append(None)\n",
    "rprint(f\"Adicionando um elemento: {list_a}\")\n",
    "# O id não é alterado\n",
    "rprint(f\"Id: {id(list_a)}\")\n",
    "# Acessando os tipo de dados da lista\n",
    "rprint(f\"Acessando os tipo de dados da lista\")\n",
    "for i in list_a:\n",
    "    rprint(f\"Tipo: {type(i)}\")\n"
   ]
  },
  {
   "cell_type": "code",
   "execution_count": 67,
   "id": "72062715",
   "metadata": {},
   "outputs": [
    {
     "data": {
      "text/html": [
       "<pre style=\"white-space:pre;overflow-x:auto;line-height:normal;font-family:Menlo,'DejaVu Sans Mono',consolas,'Courier New',monospace\">Array: <span style=\"font-weight: bold\">[</span><span style=\"color: #008080; text-decoration-color: #008080; font-weight: bold\">1</span> <span style=\"color: #008080; text-decoration-color: #008080; font-weight: bold\">2.4</span> <span style=\"color: #008000; text-decoration-color: #008000\">'a'</span> <span style=\"color: #00ff00; text-decoration-color: #00ff00; font-style: italic\">True</span> <span style=\"color: #008080; text-decoration-color: #008080; font-weight: bold\">5</span> <span style=\"color: #800080; text-decoration-color: #800080; font-style: italic\">None</span><span style=\"font-weight: bold\">]</span>\n",
       "</pre>\n"
      ],
      "text/plain": [
       "Array: \u001b[1m[\u001b[0m\u001b[1;36m1\u001b[0m \u001b[1;36m2.4\u001b[0m \u001b[32m'a'\u001b[0m \u001b[3;92mTrue\u001b[0m \u001b[1;36m5\u001b[0m \u001b[3;35mNone\u001b[0m\u001b[1m]\u001b[0m\n"
      ]
     },
     "metadata": {},
     "output_type": "display_data"
    },
    {
     "data": {
      "text/html": [
       "<pre style=\"white-space:pre;overflow-x:auto;line-height:normal;font-family:Menlo,'DejaVu Sans Mono',consolas,'Courier New',monospace\">Tipo: <span style=\"font-weight: bold\">&lt;</span><span style=\"color: #ff00ff; text-decoration-color: #ff00ff; font-weight: bold\">class</span><span style=\"color: #000000; text-decoration-color: #000000\"> </span><span style=\"color: #008000; text-decoration-color: #008000\">'numpy.ndarray'</span><span style=\"font-weight: bold\">&gt;</span>\n",
       "</pre>\n"
      ],
      "text/plain": [
       "Tipo: \u001b[1m<\u001b[0m\u001b[1;95mclass\u001b[0m\u001b[39m \u001b[0m\u001b[32m'numpy.ndarray'\u001b[0m\u001b[1m>\u001b[0m\n"
      ]
     },
     "metadata": {},
     "output_type": "display_data"
    },
    {
     "data": {
      "text/html": [
       "<pre style=\"white-space:pre;overflow-x:auto;line-height:normal;font-family:Menlo,'DejaVu Sans Mono',consolas,'Courier New',monospace\">Id: <span style=\"color: #008080; text-decoration-color: #008080; font-weight: bold\">126682835803216</span>\n",
       "</pre>\n"
      ],
      "text/plain": [
       "Id: \u001b[1;36m126682835803216\u001b[0m\n"
      ]
     },
     "metadata": {},
     "output_type": "display_data"
    },
    {
     "data": {
      "text/html": [
       "<pre style=\"white-space:pre;overflow-x:auto;line-height:normal;font-family:Menlo,'DejaVu Sans Mono',consolas,'Courier New',monospace\">Acessando os tipo de dados do array\n",
       "</pre>\n"
      ],
      "text/plain": [
       "Acessando os tipo de dados do array\n"
      ]
     },
     "metadata": {},
     "output_type": "display_data"
    },
    {
     "data": {
      "text/html": [
       "<pre style=\"white-space:pre;overflow-x:auto;line-height:normal;font-family:Menlo,'DejaVu Sans Mono',consolas,'Courier New',monospace\">Tipo: <span style=\"font-weight: bold\">&lt;</span><span style=\"color: #ff00ff; text-decoration-color: #ff00ff; font-weight: bold\">class</span><span style=\"color: #000000; text-decoration-color: #000000\"> </span><span style=\"color: #008000; text-decoration-color: #008000\">'int'</span><span style=\"font-weight: bold\">&gt;</span>\n",
       "</pre>\n"
      ],
      "text/plain": [
       "Tipo: \u001b[1m<\u001b[0m\u001b[1;95mclass\u001b[0m\u001b[39m \u001b[0m\u001b[32m'int'\u001b[0m\u001b[1m>\u001b[0m\n"
      ]
     },
     "metadata": {},
     "output_type": "display_data"
    },
    {
     "data": {
      "text/html": [
       "<pre style=\"white-space:pre;overflow-x:auto;line-height:normal;font-family:Menlo,'DejaVu Sans Mono',consolas,'Courier New',monospace\">Tipo: <span style=\"font-weight: bold\">&lt;</span><span style=\"color: #ff00ff; text-decoration-color: #ff00ff; font-weight: bold\">class</span><span style=\"color: #000000; text-decoration-color: #000000\"> </span><span style=\"color: #008000; text-decoration-color: #008000\">'float'</span><span style=\"font-weight: bold\">&gt;</span>\n",
       "</pre>\n"
      ],
      "text/plain": [
       "Tipo: \u001b[1m<\u001b[0m\u001b[1;95mclass\u001b[0m\u001b[39m \u001b[0m\u001b[32m'float'\u001b[0m\u001b[1m>\u001b[0m\n"
      ]
     },
     "metadata": {},
     "output_type": "display_data"
    },
    {
     "data": {
      "text/html": [
       "<pre style=\"white-space:pre;overflow-x:auto;line-height:normal;font-family:Menlo,'DejaVu Sans Mono',consolas,'Courier New',monospace\">Tipo: <span style=\"font-weight: bold\">&lt;</span><span style=\"color: #ff00ff; text-decoration-color: #ff00ff; font-weight: bold\">class</span><span style=\"color: #000000; text-decoration-color: #000000\"> </span><span style=\"color: #008000; text-decoration-color: #008000\">'str'</span><span style=\"font-weight: bold\">&gt;</span>\n",
       "</pre>\n"
      ],
      "text/plain": [
       "Tipo: \u001b[1m<\u001b[0m\u001b[1;95mclass\u001b[0m\u001b[39m \u001b[0m\u001b[32m'str'\u001b[0m\u001b[1m>\u001b[0m\n"
      ]
     },
     "metadata": {},
     "output_type": "display_data"
    },
    {
     "data": {
      "text/html": [
       "<pre style=\"white-space:pre;overflow-x:auto;line-height:normal;font-family:Menlo,'DejaVu Sans Mono',consolas,'Courier New',monospace\">Tipo: <span style=\"font-weight: bold\">&lt;</span><span style=\"color: #ff00ff; text-decoration-color: #ff00ff; font-weight: bold\">class</span><span style=\"color: #000000; text-decoration-color: #000000\"> </span><span style=\"color: #008000; text-decoration-color: #008000\">'bool'</span><span style=\"font-weight: bold\">&gt;</span>\n",
       "</pre>\n"
      ],
      "text/plain": [
       "Tipo: \u001b[1m<\u001b[0m\u001b[1;95mclass\u001b[0m\u001b[39m \u001b[0m\u001b[32m'bool'\u001b[0m\u001b[1m>\u001b[0m\n"
      ]
     },
     "metadata": {},
     "output_type": "display_data"
    },
    {
     "data": {
      "text/html": [
       "<pre style=\"white-space:pre;overflow-x:auto;line-height:normal;font-family:Menlo,'DejaVu Sans Mono',consolas,'Courier New',monospace\">Tipo: <span style=\"font-weight: bold\">&lt;</span><span style=\"color: #ff00ff; text-decoration-color: #ff00ff; font-weight: bold\">class</span><span style=\"color: #000000; text-decoration-color: #000000\"> </span><span style=\"color: #008000; text-decoration-color: #008000\">'int'</span><span style=\"font-weight: bold\">&gt;</span>\n",
       "</pre>\n"
      ],
      "text/plain": [
       "Tipo: \u001b[1m<\u001b[0m\u001b[1;95mclass\u001b[0m\u001b[39m \u001b[0m\u001b[32m'int'\u001b[0m\u001b[1m>\u001b[0m\n"
      ]
     },
     "metadata": {},
     "output_type": "display_data"
    },
    {
     "data": {
      "text/html": [
       "<pre style=\"white-space:pre;overflow-x:auto;line-height:normal;font-family:Menlo,'DejaVu Sans Mono',consolas,'Courier New',monospace\">Tipo: <span style=\"font-weight: bold\">&lt;</span><span style=\"color: #ff00ff; text-decoration-color: #ff00ff; font-weight: bold\">class</span><span style=\"color: #000000; text-decoration-color: #000000\"> </span><span style=\"color: #008000; text-decoration-color: #008000\">'NoneType'</span><span style=\"font-weight: bold\">&gt;</span>\n",
       "</pre>\n"
      ],
      "text/plain": [
       "Tipo: \u001b[1m<\u001b[0m\u001b[1;95mclass\u001b[0m\u001b[39m \u001b[0m\u001b[32m'NoneType'\u001b[0m\u001b[1m>\u001b[0m\n"
      ]
     },
     "metadata": {},
     "output_type": "display_data"
    },
    {
     "data": {
      "text/html": [
       "<pre style=\"white-space:pre;overflow-x:auto;line-height:normal;font-family:Menlo,'DejaVu Sans Mono',consolas,'Courier New',monospace\">Adicionando um elemento: <span style=\"font-weight: bold\">[</span><span style=\"color: #008080; text-decoration-color: #008080; font-weight: bold\">1</span> <span style=\"color: #008080; text-decoration-color: #008080; font-weight: bold\">2.4</span> <span style=\"color: #008000; text-decoration-color: #008000\">'a'</span> <span style=\"color: #00ff00; text-decoration-color: #00ff00; font-style: italic\">True</span> <span style=\"color: #008080; text-decoration-color: #008080; font-weight: bold\">5</span> <span style=\"color: #800080; text-decoration-color: #800080; font-style: italic\">None</span> <span style=\"color: #008080; text-decoration-color: #008080; font-weight: bold\">5</span><span style=\"font-weight: bold\">]</span>\n",
       "</pre>\n"
      ],
      "text/plain": [
       "Adicionando um elemento: \u001b[1m[\u001b[0m\u001b[1;36m1\u001b[0m \u001b[1;36m2.4\u001b[0m \u001b[32m'a'\u001b[0m \u001b[3;92mTrue\u001b[0m \u001b[1;36m5\u001b[0m \u001b[3;35mNone\u001b[0m \u001b[1;36m5\u001b[0m\u001b[1m]\u001b[0m\n"
      ]
     },
     "metadata": {},
     "output_type": "display_data"
    },
    {
     "data": {
      "text/html": [
       "<pre style=\"white-space:pre;overflow-x:auto;line-height:normal;font-family:Menlo,'DejaVu Sans Mono',consolas,'Courier New',monospace\">Id: <span style=\"color: #008080; text-decoration-color: #008080; font-weight: bold\">126682835680304</span>\n",
       "</pre>\n"
      ],
      "text/plain": [
       "Id: \u001b[1;36m126682835680304\u001b[0m\n"
      ]
     },
     "metadata": {},
     "output_type": "display_data"
    },
    {
     "data": {
      "text/html": [
       "<pre style=\"white-space:pre;overflow-x:auto;line-height:normal;font-family:Menlo,'DejaVu Sans Mono',consolas,'Courier New',monospace\">Acessando os tipo de dados do array\n",
       "</pre>\n"
      ],
      "text/plain": [
       "Acessando os tipo de dados do array\n"
      ]
     },
     "metadata": {},
     "output_type": "display_data"
    },
    {
     "data": {
      "text/html": [
       "<pre style=\"white-space:pre;overflow-x:auto;line-height:normal;font-family:Menlo,'DejaVu Sans Mono',consolas,'Courier New',monospace\">Tipo: <span style=\"font-weight: bold\">&lt;</span><span style=\"color: #ff00ff; text-decoration-color: #ff00ff; font-weight: bold\">class</span><span style=\"color: #000000; text-decoration-color: #000000\"> </span><span style=\"color: #008000; text-decoration-color: #008000\">'int'</span><span style=\"font-weight: bold\">&gt;</span>\n",
       "</pre>\n"
      ],
      "text/plain": [
       "Tipo: \u001b[1m<\u001b[0m\u001b[1;95mclass\u001b[0m\u001b[39m \u001b[0m\u001b[32m'int'\u001b[0m\u001b[1m>\u001b[0m\n"
      ]
     },
     "metadata": {},
     "output_type": "display_data"
    },
    {
     "data": {
      "text/html": [
       "<pre style=\"white-space:pre;overflow-x:auto;line-height:normal;font-family:Menlo,'DejaVu Sans Mono',consolas,'Courier New',monospace\">Tipo: <span style=\"font-weight: bold\">&lt;</span><span style=\"color: #ff00ff; text-decoration-color: #ff00ff; font-weight: bold\">class</span><span style=\"color: #000000; text-decoration-color: #000000\"> </span><span style=\"color: #008000; text-decoration-color: #008000\">'float'</span><span style=\"font-weight: bold\">&gt;</span>\n",
       "</pre>\n"
      ],
      "text/plain": [
       "Tipo: \u001b[1m<\u001b[0m\u001b[1;95mclass\u001b[0m\u001b[39m \u001b[0m\u001b[32m'float'\u001b[0m\u001b[1m>\u001b[0m\n"
      ]
     },
     "metadata": {},
     "output_type": "display_data"
    },
    {
     "data": {
      "text/html": [
       "<pre style=\"white-space:pre;overflow-x:auto;line-height:normal;font-family:Menlo,'DejaVu Sans Mono',consolas,'Courier New',monospace\">Tipo: <span style=\"font-weight: bold\">&lt;</span><span style=\"color: #ff00ff; text-decoration-color: #ff00ff; font-weight: bold\">class</span><span style=\"color: #000000; text-decoration-color: #000000\"> </span><span style=\"color: #008000; text-decoration-color: #008000\">'str'</span><span style=\"font-weight: bold\">&gt;</span>\n",
       "</pre>\n"
      ],
      "text/plain": [
       "Tipo: \u001b[1m<\u001b[0m\u001b[1;95mclass\u001b[0m\u001b[39m \u001b[0m\u001b[32m'str'\u001b[0m\u001b[1m>\u001b[0m\n"
      ]
     },
     "metadata": {},
     "output_type": "display_data"
    },
    {
     "data": {
      "text/html": [
       "<pre style=\"white-space:pre;overflow-x:auto;line-height:normal;font-family:Menlo,'DejaVu Sans Mono',consolas,'Courier New',monospace\">Tipo: <span style=\"font-weight: bold\">&lt;</span><span style=\"color: #ff00ff; text-decoration-color: #ff00ff; font-weight: bold\">class</span><span style=\"color: #000000; text-decoration-color: #000000\"> </span><span style=\"color: #008000; text-decoration-color: #008000\">'bool'</span><span style=\"font-weight: bold\">&gt;</span>\n",
       "</pre>\n"
      ],
      "text/plain": [
       "Tipo: \u001b[1m<\u001b[0m\u001b[1;95mclass\u001b[0m\u001b[39m \u001b[0m\u001b[32m'bool'\u001b[0m\u001b[1m>\u001b[0m\n"
      ]
     },
     "metadata": {},
     "output_type": "display_data"
    },
    {
     "data": {
      "text/html": [
       "<pre style=\"white-space:pre;overflow-x:auto;line-height:normal;font-family:Menlo,'DejaVu Sans Mono',consolas,'Courier New',monospace\">Tipo: <span style=\"font-weight: bold\">&lt;</span><span style=\"color: #ff00ff; text-decoration-color: #ff00ff; font-weight: bold\">class</span><span style=\"color: #000000; text-decoration-color: #000000\"> </span><span style=\"color: #008000; text-decoration-color: #008000\">'int'</span><span style=\"font-weight: bold\">&gt;</span>\n",
       "</pre>\n"
      ],
      "text/plain": [
       "Tipo: \u001b[1m<\u001b[0m\u001b[1;95mclass\u001b[0m\u001b[39m \u001b[0m\u001b[32m'int'\u001b[0m\u001b[1m>\u001b[0m\n"
      ]
     },
     "metadata": {},
     "output_type": "display_data"
    },
    {
     "data": {
      "text/html": [
       "<pre style=\"white-space:pre;overflow-x:auto;line-height:normal;font-family:Menlo,'DejaVu Sans Mono',consolas,'Courier New',monospace\">Tipo: <span style=\"font-weight: bold\">&lt;</span><span style=\"color: #ff00ff; text-decoration-color: #ff00ff; font-weight: bold\">class</span><span style=\"color: #000000; text-decoration-color: #000000\"> </span><span style=\"color: #008000; text-decoration-color: #008000\">'NoneType'</span><span style=\"font-weight: bold\">&gt;</span>\n",
       "</pre>\n"
      ],
      "text/plain": [
       "Tipo: \u001b[1m<\u001b[0m\u001b[1;95mclass\u001b[0m\u001b[39m \u001b[0m\u001b[32m'NoneType'\u001b[0m\u001b[1m>\u001b[0m\n"
      ]
     },
     "metadata": {},
     "output_type": "display_data"
    },
    {
     "data": {
      "text/html": [
       "<pre style=\"white-space:pre;overflow-x:auto;line-height:normal;font-family:Menlo,'DejaVu Sans Mono',consolas,'Courier New',monospace\">Tipo: <span style=\"font-weight: bold\">&lt;</span><span style=\"color: #ff00ff; text-decoration-color: #ff00ff; font-weight: bold\">class</span><span style=\"color: #000000; text-decoration-color: #000000\"> </span><span style=\"color: #008000; text-decoration-color: #008000\">'int'</span><span style=\"font-weight: bold\">&gt;</span>\n",
       "</pre>\n"
      ],
      "text/plain": [
       "Tipo: \u001b[1m<\u001b[0m\u001b[1;95mclass\u001b[0m\u001b[39m \u001b[0m\u001b[32m'int'\u001b[0m\u001b[1m>\u001b[0m\n"
      ]
     },
     "metadata": {},
     "output_type": "display_data"
    },
    {
     "data": {
      "text/html": [
       "<pre style=\"white-space:pre;overflow-x:auto;line-height:normal;font-family:Menlo,'DejaVu Sans Mono',consolas,'Courier New',monospace\">Tipo de dados do array: object\n",
       "</pre>\n"
      ],
      "text/plain": [
       "Tipo de dados do array: object\n"
      ]
     },
     "metadata": {},
     "output_type": "display_data"
    }
   ],
   "source": [
    "# Array\n",
    "\n",
    "array_a = np.array(list_a)\n",
    "\n",
    "rprint(f\"Array: {array_a}\")\n",
    "rprint(f\"Tipo: {type(array_a)}\")\n",
    "rprint(f\"Id: {id(array_a)}\")\n",
    "# Acessando os tipo de dados da lista\n",
    "rprint(f\"Acessando os tipo de dados do array\")\n",
    "for i in array_a:\n",
    "    rprint(f\"Tipo: {type(i)}\")\n",
    "# Adicionando um elemento\n",
    "array_a = np.append(array_a, [5])\n",
    "rprint(f\"Adicionando um elemento: {array_a}\")\n",
    "# O id é alterado\n",
    "rprint(f\"Id: {id(array_a)}\")\n",
    "# Acessando os tipo de dados da lista\n",
    "rprint(f\"Acessando os tipo de dados do array\")\n",
    "for i in array_a:\n",
    "    rprint(f\"Tipo: {type(i)}\")\n",
    "    \n",
    "rprint(f\"Tipo de dados do array: {array_a.dtype}\")"
   ]
  },
  {
   "cell_type": "markdown",
   "id": "5de2b4d3",
   "metadata": {},
   "source": [
    "### Vetorização"
   ]
  },
  {
   "cell_type": "code",
   "execution_count": 68,
   "id": "512030d5",
   "metadata": {},
   "outputs": [
    {
     "data": {
      "text/html": [
       "<pre style=\"white-space:pre;overflow-x:auto;line-height:normal;font-family:Menlo,'DejaVu Sans Mono',consolas,'Courier New',monospace\">Lista c: <span style=\"font-weight: bold\">[</span><span style=\"color: #008080; text-decoration-color: #008080; font-weight: bold\">7</span>, <span style=\"color: #008080; text-decoration-color: #008080; font-weight: bold\">9</span>, <span style=\"color: #008080; text-decoration-color: #008080; font-weight: bold\">11</span>, <span style=\"color: #008080; text-decoration-color: #008080; font-weight: bold\">13</span>, <span style=\"color: #008080; text-decoration-color: #008080; font-weight: bold\">15</span><span style=\"font-weight: bold\">]</span>\n",
       "</pre>\n"
      ],
      "text/plain": [
       "Lista c: \u001b[1m[\u001b[0m\u001b[1;36m7\u001b[0m, \u001b[1;36m9\u001b[0m, \u001b[1;36m11\u001b[0m, \u001b[1;36m13\u001b[0m, \u001b[1;36m15\u001b[0m\u001b[1m]\u001b[0m\n"
      ]
     },
     "metadata": {},
     "output_type": "display_data"
    },
    {
     "data": {
      "text/html": [
       "<pre style=\"white-space:pre;overflow-x:auto;line-height:normal;font-family:Menlo,'DejaVu Sans Mono',consolas,'Courier New',monospace\">Array c: <span style=\"font-weight: bold\">[</span> <span style=\"color: #008080; text-decoration-color: #008080; font-weight: bold\">7</span>  <span style=\"color: #008080; text-decoration-color: #008080; font-weight: bold\">9</span> <span style=\"color: #008080; text-decoration-color: #008080; font-weight: bold\">11</span> <span style=\"color: #008080; text-decoration-color: #008080; font-weight: bold\">13</span> <span style=\"color: #008080; text-decoration-color: #008080; font-weight: bold\">15</span><span style=\"font-weight: bold\">]</span>\n",
       "</pre>\n"
      ],
      "text/plain": [
       "Array c: \u001b[1m[\u001b[0m \u001b[1;36m7\u001b[0m  \u001b[1;36m9\u001b[0m \u001b[1;36m11\u001b[0m \u001b[1;36m13\u001b[0m \u001b[1;36m15\u001b[0m\u001b[1m]\u001b[0m\n"
      ]
     },
     "metadata": {},
     "output_type": "display_data"
    },
    {
     "data": {
      "text/html": [
       "<pre style=\"white-space:pre;overflow-x:auto;line-height:normal;font-family:Menlo,'DejaVu Sans Mono',consolas,'Courier New',monospace\">Array d: <span style=\"font-weight: bold\">[</span> <span style=\"color: #008080; text-decoration-color: #008080; font-weight: bold\">6</span> <span style=\"color: #008080; text-decoration-color: #008080; font-weight: bold\">14</span> <span style=\"color: #008080; text-decoration-color: #008080; font-weight: bold\">24</span> <span style=\"color: #008080; text-decoration-color: #008080; font-weight: bold\">36</span> <span style=\"color: #008080; text-decoration-color: #008080; font-weight: bold\">50</span><span style=\"font-weight: bold\">]</span>\n",
       "</pre>\n"
      ],
      "text/plain": [
       "Array d: \u001b[1m[\u001b[0m \u001b[1;36m6\u001b[0m \u001b[1;36m14\u001b[0m \u001b[1;36m24\u001b[0m \u001b[1;36m36\u001b[0m \u001b[1;36m50\u001b[0m\u001b[1m]\u001b[0m\n"
      ]
     },
     "metadata": {},
     "output_type": "display_data"
    },
    {
     "data": {
      "text/html": [
       "<pre style=\"white-space:pre;overflow-x:auto;line-height:normal;font-family:Menlo,'DejaVu Sans Mono',consolas,'Courier New',monospace\">Array e: <span style=\"font-weight: bold\">[</span><span style=\"color: #008080; text-decoration-color: #008080; font-weight: bold\">0.16666667</span> <span style=\"color: #008080; text-decoration-color: #008080; font-weight: bold\">0.28571429</span> <span style=\"color: #008080; text-decoration-color: #008080; font-weight: bold\">0.375</span>      <span style=\"color: #008080; text-decoration-color: #008080; font-weight: bold\">0.44444444</span> <span style=\"color: #008080; text-decoration-color: #008080; font-weight: bold\">0.5</span>       <span style=\"font-weight: bold\">]</span>\n",
       "</pre>\n"
      ],
      "text/plain": [
       "Array e: \u001b[1m[\u001b[0m\u001b[1;36m0.16666667\u001b[0m \u001b[1;36m0.28571429\u001b[0m \u001b[1;36m0.375\u001b[0m      \u001b[1;36m0.44444444\u001b[0m \u001b[1;36m0.5\u001b[0m       \u001b[1m]\u001b[0m\n"
      ]
     },
     "metadata": {},
     "output_type": "display_data"
    },
    {
     "data": {
      "text/html": [
       "<pre style=\"white-space:pre;overflow-x:auto;line-height:normal;font-family:Menlo,'DejaVu Sans Mono',consolas,'Courier New',monospace\">Array f: <span style=\"font-weight: bold\">[</span>      <span style=\"color: #008080; text-decoration-color: #008080; font-weight: bold\">1</span>     <span style=\"color: #008080; text-decoration-color: #008080; font-weight: bold\">128</span>    <span style=\"color: #008080; text-decoration-color: #008080; font-weight: bold\">6561</span>  <span style=\"color: #008080; text-decoration-color: #008080; font-weight: bold\">262144</span> <span style=\"color: #008080; text-decoration-color: #008080; font-weight: bold\">9765625</span><span style=\"font-weight: bold\">]</span>\n",
       "</pre>\n"
      ],
      "text/plain": [
       "Array f: \u001b[1m[\u001b[0m      \u001b[1;36m1\u001b[0m     \u001b[1;36m128\u001b[0m    \u001b[1;36m6561\u001b[0m  \u001b[1;36m262144\u001b[0m \u001b[1;36m9765625\u001b[0m\u001b[1m]\u001b[0m\n"
      ]
     },
     "metadata": {},
     "output_type": "display_data"
    },
    {
     "data": {
      "text/html": [
       "<pre style=\"white-space:pre;overflow-x:auto;line-height:normal;font-family:Menlo,'DejaVu Sans Mono',consolas,'Courier New',monospace\">Array g: <span style=\"font-weight: bold\">[</span><span style=\"color: #008080; text-decoration-color: #008080; font-weight: bold\">1</span> <span style=\"color: #008080; text-decoration-color: #008080; font-weight: bold\">2</span> <span style=\"color: #008080; text-decoration-color: #008080; font-weight: bold\">3</span> <span style=\"color: #008080; text-decoration-color: #008080; font-weight: bold\">4</span> <span style=\"color: #008080; text-decoration-color: #008080; font-weight: bold\">5</span><span style=\"font-weight: bold\">]</span>\n",
       "</pre>\n"
      ],
      "text/plain": [
       "Array g: \u001b[1m[\u001b[0m\u001b[1;36m1\u001b[0m \u001b[1;36m2\u001b[0m \u001b[1;36m3\u001b[0m \u001b[1;36m4\u001b[0m \u001b[1;36m5\u001b[0m\u001b[1m]\u001b[0m\n"
      ]
     },
     "metadata": {},
     "output_type": "display_data"
    },
    {
     "data": {
      "text/html": [
       "<pre style=\"white-space:pre;overflow-x:auto;line-height:normal;font-family:Menlo,'DejaVu Sans Mono',consolas,'Courier New',monospace\">Array h: <span style=\"font-weight: bold\">[</span><span style=\"color: #008080; text-decoration-color: #008080; font-weight: bold\">0</span> <span style=\"color: #008080; text-decoration-color: #008080; font-weight: bold\">0</span> <span style=\"color: #008080; text-decoration-color: #008080; font-weight: bold\">0</span> <span style=\"color: #008080; text-decoration-color: #008080; font-weight: bold\">0</span> <span style=\"color: #008080; text-decoration-color: #008080; font-weight: bold\">0</span><span style=\"font-weight: bold\">]</span>\n",
       "</pre>\n"
      ],
      "text/plain": [
       "Array h: \u001b[1m[\u001b[0m\u001b[1;36m0\u001b[0m \u001b[1;36m0\u001b[0m \u001b[1;36m0\u001b[0m \u001b[1;36m0\u001b[0m \u001b[1;36m0\u001b[0m\u001b[1m]\u001b[0m\n"
      ]
     },
     "metadata": {},
     "output_type": "display_data"
    },
    {
     "data": {
      "text/html": [
       "<pre style=\"white-space:pre;overflow-x:auto;line-height:normal;font-family:Menlo,'DejaVu Sans Mono',consolas,'Courier New',monospace\">Array i: <span style=\"font-weight: bold\">[</span><span style=\"color: #008080; text-decoration-color: #008080; font-weight: bold\">1</span>.         <span style=\"color: #008080; text-decoration-color: #008080; font-weight: bold\">1.41421356</span> <span style=\"color: #008080; text-decoration-color: #008080; font-weight: bold\">1.73205081</span> <span style=\"color: #008080; text-decoration-color: #008080; font-weight: bold\">2</span>.         <span style=\"color: #008080; text-decoration-color: #008080; font-weight: bold\">2.23606798</span><span style=\"font-weight: bold\">]</span>\n",
       "</pre>\n"
      ],
      "text/plain": [
       "Array i: \u001b[1m[\u001b[0m\u001b[1;36m1\u001b[0m.         \u001b[1;36m1.41421356\u001b[0m \u001b[1;36m1.73205081\u001b[0m \u001b[1;36m2\u001b[0m.         \u001b[1;36m2.23606798\u001b[0m\u001b[1m]\u001b[0m\n"
      ]
     },
     "metadata": {},
     "output_type": "display_data"
    },
    {
     "data": {
      "text/html": [
       "<pre style=\"white-space:pre;overflow-x:auto;line-height:normal;font-family:Menlo,'DejaVu Sans Mono',consolas,'Courier New',monospace\">Array j: <span style=\"font-weight: bold\">[</span><span style=\"color: #008080; text-decoration-color: #008080; font-weight: bold\">1</span>.         <span style=\"color: #008080; text-decoration-color: #008080; font-weight: bold\">1.41421356</span> <span style=\"color: #008080; text-decoration-color: #008080; font-weight: bold\">1.73205081</span> <span style=\"color: #008080; text-decoration-color: #008080; font-weight: bold\">2</span>.         <span style=\"color: #008080; text-decoration-color: #008080; font-weight: bold\">2.23606798</span><span style=\"font-weight: bold\">]</span>\n",
       "</pre>\n"
      ],
      "text/plain": [
       "Array j: \u001b[1m[\u001b[0m\u001b[1;36m1\u001b[0m.         \u001b[1;36m1.41421356\u001b[0m \u001b[1;36m1.73205081\u001b[0m \u001b[1;36m2\u001b[0m.         \u001b[1;36m2.23606798\u001b[0m\u001b[1m]\u001b[0m\n"
      ]
     },
     "metadata": {},
     "output_type": "display_data"
    },
    {
     "data": {
      "text/html": [
       "<pre style=\"white-space:pre;overflow-x:auto;line-height:normal;font-family:Menlo,'DejaVu Sans Mono',consolas,'Courier New',monospace\">Array k: <span style=\"font-weight: bold\">[</span><span style=\"color: #008080; text-decoration-color: #008080; font-weight: bold\">0</span>.         <span style=\"color: #008080; text-decoration-color: #008080; font-weight: bold\">0.69314718</span> <span style=\"color: #008080; text-decoration-color: #008080; font-weight: bold\">1.09861229</span> <span style=\"color: #008080; text-decoration-color: #008080; font-weight: bold\">1.38629436</span> <span style=\"color: #008080; text-decoration-color: #008080; font-weight: bold\">1.60943791</span><span style=\"font-weight: bold\">]</span>\n",
       "</pre>\n"
      ],
      "text/plain": [
       "Array k: \u001b[1m[\u001b[0m\u001b[1;36m0\u001b[0m.         \u001b[1;36m0.69314718\u001b[0m \u001b[1;36m1.09861229\u001b[0m \u001b[1;36m1.38629436\u001b[0m \u001b[1;36m1.60943791\u001b[0m\u001b[1m]\u001b[0m\n"
      ]
     },
     "metadata": {},
     "output_type": "display_data"
    },
    {
     "data": {
      "text/html": [
       "<pre style=\"white-space:pre;overflow-x:auto;line-height:normal;font-family:Menlo,'DejaVu Sans Mono',consolas,'Courier New',monospace\">Array l: <span style=\"font-weight: bold\">[</span>  <span style=\"color: #008080; text-decoration-color: #008080; font-weight: bold\">2.71828183</span>   <span style=\"color: #008080; text-decoration-color: #008080; font-weight: bold\">7.3890561</span>   <span style=\"color: #008080; text-decoration-color: #008080; font-weight: bold\">20.08553692</span>  <span style=\"color: #008080; text-decoration-color: #008080; font-weight: bold\">54.59815003</span> <span style=\"color: #008080; text-decoration-color: #008080; font-weight: bold\">148.4131591</span> <span style=\"font-weight: bold\">]</span>\n",
       "</pre>\n"
      ],
      "text/plain": [
       "Array l: \u001b[1m[\u001b[0m  \u001b[1;36m2.71828183\u001b[0m   \u001b[1;36m7.3890561\u001b[0m   \u001b[1;36m20.08553692\u001b[0m  \u001b[1;36m54.59815003\u001b[0m \u001b[1;36m148.4131591\u001b[0m \u001b[1m]\u001b[0m\n"
      ]
     },
     "metadata": {},
     "output_type": "display_data"
    },
    {
     "data": {
      "text/html": [
       "<pre style=\"white-space:pre;overflow-x:auto;line-height:normal;font-family:Menlo,'DejaVu Sans Mono',consolas,'Courier New',monospace\">Array m: <span style=\"font-weight: bold\">[</span> <span style=\"color: #008080; text-decoration-color: #008080; font-weight: bold\">0.84147098</span>  <span style=\"color: #008080; text-decoration-color: #008080; font-weight: bold\">0.90929743</span>  <span style=\"color: #008080; text-decoration-color: #008080; font-weight: bold\">0.14112001</span> <span style=\"color: #008080; text-decoration-color: #008080; font-weight: bold\">-0.7568025</span>  <span style=\"color: #008080; text-decoration-color: #008080; font-weight: bold\">-0.95892427</span><span style=\"font-weight: bold\">]</span>\n",
       "</pre>\n"
      ],
      "text/plain": [
       "Array m: \u001b[1m[\u001b[0m \u001b[1;36m0.84147098\u001b[0m  \u001b[1;36m0.90929743\u001b[0m  \u001b[1;36m0.14112001\u001b[0m \u001b[1;36m-0.7568025\u001b[0m  \u001b[1;36m-0.95892427\u001b[0m\u001b[1m]\u001b[0m\n"
      ]
     },
     "metadata": {},
     "output_type": "display_data"
    },
    {
     "data": {
      "text/html": [
       "<pre style=\"white-space:pre;overflow-x:auto;line-height:normal;font-family:Menlo,'DejaVu Sans Mono',consolas,'Courier New',monospace\">Array n: <span style=\"font-weight: bold\">[</span> <span style=\"color: #008080; text-decoration-color: #008080; font-weight: bold\">0.54030231</span> <span style=\"color: #008080; text-decoration-color: #008080; font-weight: bold\">-0.41614684</span> <span style=\"color: #008080; text-decoration-color: #008080; font-weight: bold\">-0.9899925</span>  <span style=\"color: #008080; text-decoration-color: #008080; font-weight: bold\">-0.65364362</span>  <span style=\"color: #008080; text-decoration-color: #008080; font-weight: bold\">0.28366219</span><span style=\"font-weight: bold\">]</span>\n",
       "</pre>\n"
      ],
      "text/plain": [
       "Array n: \u001b[1m[\u001b[0m \u001b[1;36m0.54030231\u001b[0m \u001b[1;36m-0.41614684\u001b[0m \u001b[1;36m-0.9899925\u001b[0m  \u001b[1;36m-0.65364362\u001b[0m  \u001b[1;36m0.28366219\u001b[0m\u001b[1m]\u001b[0m\n"
      ]
     },
     "metadata": {},
     "output_type": "display_data"
    },
    {
     "data": {
      "text/html": [
       "<pre style=\"white-space:pre;overflow-x:auto;line-height:normal;font-family:Menlo,'DejaVu Sans Mono',consolas,'Courier New',monospace\">Array o: <span style=\"font-weight: bold\">[</span> <span style=\"color: #008080; text-decoration-color: #008080; font-weight: bold\">1.55740772</span> <span style=\"color: #008080; text-decoration-color: #008080; font-weight: bold\">-2.18503986</span> <span style=\"color: #008080; text-decoration-color: #008080; font-weight: bold\">-0.14254654</span>  <span style=\"color: #008080; text-decoration-color: #008080; font-weight: bold\">1.15782128</span> <span style=\"color: #008080; text-decoration-color: #008080; font-weight: bold\">-3.38051501</span><span style=\"font-weight: bold\">]</span>\n",
       "</pre>\n"
      ],
      "text/plain": [
       "Array o: \u001b[1m[\u001b[0m \u001b[1;36m1.55740772\u001b[0m \u001b[1;36m-2.18503986\u001b[0m \u001b[1;36m-0.14254654\u001b[0m  \u001b[1;36m1.15782128\u001b[0m \u001b[1;36m-3.38051501\u001b[0m\u001b[1m]\u001b[0m\n"
      ]
     },
     "metadata": {},
     "output_type": "display_data"
    }
   ],
   "source": [
    "# Cálculos aritméticos com listas\n",
    "list_a = [1, 2, 3, 4, 5]\n",
    "list_b = [6, 7, 8, 9, 10]\n",
    "\n",
    "# list_c = [i + j for i, j in zip(list_a, list_b)]\n",
    "list_c = []\n",
    "for i in range(len(list_a)):\n",
    "    list_c.append(list_a[i] + list_b[i])\n",
    "\n",
    "rprint(f\"Lista c: {list_c}\")\n",
    "\n",
    "# Cálculos aritméticos com arrays\n",
    "array_a = np.array(list_a)\n",
    "array_b = np.array(list_b)\n",
    "array_c = array_a + array_b\n",
    "\n",
    "rprint(f\"Array c: {array_c}\")\n",
    "\n",
    "# Outros cálculos aritméticos com arrays\n",
    "array_d = array_a * array_b\n",
    "rprint(f\"Array d: {array_d}\")\n",
    "\n",
    "array_e = array_a / array_b\n",
    "rprint(f\"Array e: {array_e}\")\n",
    "\n",
    "array_f = array_a ** array_b\n",
    "rprint(f\"Array f: {array_f}\")\n",
    "\n",
    "array_g = array_a % array_b\n",
    "rprint(f\"Array g: {array_g}\")\n",
    "\n",
    "array_h = array_a // array_b\n",
    "rprint(f\"Array h: {array_h}\")\n",
    "\n",
    "array_i = array_a ** 0.5\n",
    "rprint(f\"Array i: {array_i}\")\n",
    "\n",
    "array_j = np.sqrt(array_a)\n",
    "rprint(f\"Array j: {array_j}\")\n",
    "\n",
    "array_k = np.log(array_a)\n",
    "rprint(f\"Array k: {array_k}\")\n",
    "\n",
    "array_l = np.exp(array_a)\n",
    "rprint(f\"Array l: {array_l}\")\n",
    "\n",
    "array_m = np.sin(array_a)\n",
    "rprint(f\"Array m: {array_m}\")\n",
    "\n",
    "array_n = np.cos(array_a)\n",
    "rprint(f\"Array n: {array_n}\")\n",
    "\n",
    "array_o = np.tan(array_a)\n",
    "rprint(f\"Array o: {array_o}\")\n"
   ]
  },
  {
   "cell_type": "markdown",
   "id": "eff4fe76",
   "metadata": {},
   "source": [
    "### Broadcasting"
   ]
  },
  {
   "cell_type": "code",
   "execution_count": 69,
   "id": "e70430a8",
   "metadata": {},
   "outputs": [
    {
     "data": {
      "text/html": [
       "<pre style=\"white-space:pre;overflow-x:auto;line-height:normal;font-family:Menlo,'DejaVu Sans Mono',consolas,'Courier New',monospace\">Erro: can only concatenate list <span style=\"font-weight: bold\">(</span>not <span style=\"color: #008000; text-decoration-color: #008000\">\"int\"</span><span style=\"font-weight: bold\">)</span> to list\n",
       "</pre>\n"
      ],
      "text/plain": [
       "Erro: can only concatenate list \u001b[1m(\u001b[0mnot \u001b[32m\"int\"\u001b[0m\u001b[1m)\u001b[0m to list\n"
      ]
     },
     "metadata": {},
     "output_type": "display_data"
    },
    {
     "data": {
      "text/html": [
       "<pre style=\"white-space:pre;overflow-x:auto;line-height:normal;font-family:Menlo,'DejaVu Sans Mono',consolas,'Courier New',monospace\">Lista b: <span style=\"font-weight: bold\">[</span><span style=\"color: #008080; text-decoration-color: #008080; font-weight: bold\">6</span>, <span style=\"color: #008080; text-decoration-color: #008080; font-weight: bold\">7</span>, <span style=\"color: #008080; text-decoration-color: #008080; font-weight: bold\">8</span>, <span style=\"color: #008080; text-decoration-color: #008080; font-weight: bold\">9</span>, <span style=\"color: #008080; text-decoration-color: #008080; font-weight: bold\">10</span><span style=\"font-weight: bold\">]</span>\n",
       "</pre>\n"
      ],
      "text/plain": [
       "Lista b: \u001b[1m[\u001b[0m\u001b[1;36m6\u001b[0m, \u001b[1;36m7\u001b[0m, \u001b[1;36m8\u001b[0m, \u001b[1;36m9\u001b[0m, \u001b[1;36m10\u001b[0m\u001b[1m]\u001b[0m\n"
      ]
     },
     "metadata": {},
     "output_type": "display_data"
    }
   ],
   "source": [
    "# Listas\n",
    "list_a = [1, 2, 3, 4, 5]\n",
    "\n",
    "try:\n",
    "    list_a + 5 # Gerará um erro de tipo\n",
    "except TypeError as e:\n",
    "    rprint(f\"Erro: {e}\")\n",
    "\n",
    "\n",
    "# Uma forma eficaz de calcular esta soma\n",
    "\n",
    "list_b = []\n",
    "for i in list_a:\n",
    "    list_b.append(i + 5)\n",
    "    \n",
    "rprint(f\"Lista b: {list_b}\")"
   ]
  },
  {
   "cell_type": "code",
   "execution_count": 70,
   "id": "2c9d627d",
   "metadata": {},
   "outputs": [
    {
     "data": {
      "text/html": [
       "<pre style=\"white-space:pre;overflow-x:auto;line-height:normal;font-family:Menlo,'DejaVu Sans Mono',consolas,'Courier New',monospace\">Array a: <span style=\"font-weight: bold\">[</span><span style=\"color: #008080; text-decoration-color: #008080; font-weight: bold\">1</span> <span style=\"color: #008080; text-decoration-color: #008080; font-weight: bold\">2</span> <span style=\"color: #008080; text-decoration-color: #008080; font-weight: bold\">3</span> <span style=\"color: #008080; text-decoration-color: #008080; font-weight: bold\">4</span> <span style=\"color: #008080; text-decoration-color: #008080; font-weight: bold\">5</span><span style=\"font-weight: bold\">]</span>\n",
       "</pre>\n"
      ],
      "text/plain": [
       "Array a: \u001b[1m[\u001b[0m\u001b[1;36m1\u001b[0m \u001b[1;36m2\u001b[0m \u001b[1;36m3\u001b[0m \u001b[1;36m4\u001b[0m \u001b[1;36m5\u001b[0m\u001b[1m]\u001b[0m\n"
      ]
     },
     "metadata": {},
     "output_type": "display_data"
    },
    {
     "data": {
      "text/html": [
       "<pre style=\"white-space:pre;overflow-x:auto;line-height:normal;font-family:Menlo,'DejaVu Sans Mono',consolas,'Courier New',monospace\">Array b: <span style=\"font-weight: bold\">[</span> <span style=\"color: #008080; text-decoration-color: #008080; font-weight: bold\">6</span>  <span style=\"color: #008080; text-decoration-color: #008080; font-weight: bold\">7</span>  <span style=\"color: #008080; text-decoration-color: #008080; font-weight: bold\">8</span>  <span style=\"color: #008080; text-decoration-color: #008080; font-weight: bold\">9</span> <span style=\"color: #008080; text-decoration-color: #008080; font-weight: bold\">10</span><span style=\"font-weight: bold\">]</span>\n",
       "</pre>\n"
      ],
      "text/plain": [
       "Array b: \u001b[1m[\u001b[0m \u001b[1;36m6\u001b[0m  \u001b[1;36m7\u001b[0m  \u001b[1;36m8\u001b[0m  \u001b[1;36m9\u001b[0m \u001b[1;36m10\u001b[0m\u001b[1m]\u001b[0m\n"
      ]
     },
     "metadata": {},
     "output_type": "display_data"
    },
    {
     "data": {
      "text/html": [
       "<pre style=\"white-space:pre;overflow-x:auto;line-height:normal;font-family:Menlo,'DejaVu Sans Mono',consolas,'Courier New',monospace\">Array c: <span style=\"font-weight: bold\">[[</span> <span style=\"color: #008080; text-decoration-color: #008080; font-weight: bold\">5</span><span style=\"font-weight: bold\">]</span>\n",
       " <span style=\"font-weight: bold\">[</span><span style=\"color: #008080; text-decoration-color: #008080; font-weight: bold\">10</span><span style=\"font-weight: bold\">]]</span>\n",
       "</pre>\n"
      ],
      "text/plain": [
       "Array c: \u001b[1m[\u001b[0m\u001b[1m[\u001b[0m \u001b[1;36m5\u001b[0m\u001b[1m]\u001b[0m\n",
       " \u001b[1m[\u001b[0m\u001b[1;36m10\u001b[0m\u001b[1m]\u001b[0m\u001b[1m]\u001b[0m\n"
      ]
     },
     "metadata": {},
     "output_type": "display_data"
    },
    {
     "data": {
      "text/html": [
       "<pre style=\"white-space:pre;overflow-x:auto;line-height:normal;font-family:Menlo,'DejaVu Sans Mono',consolas,'Courier New',monospace\">Array c Shape: <span style=\"font-weight: bold\">(</span><span style=\"color: #008080; text-decoration-color: #008080; font-weight: bold\">2</span>, <span style=\"color: #008080; text-decoration-color: #008080; font-weight: bold\">1</span><span style=\"font-weight: bold\">)</span>\n",
       "</pre>\n"
      ],
      "text/plain": [
       "Array c Shape: \u001b[1m(\u001b[0m\u001b[1;36m2\u001b[0m, \u001b[1;36m1\u001b[0m\u001b[1m)\u001b[0m\n"
      ]
     },
     "metadata": {},
     "output_type": "display_data"
    },
    {
     "data": {
      "text/html": [
       "<pre style=\"white-space:pre;overflow-x:auto;line-height:normal;font-family:Menlo,'DejaVu Sans Mono',consolas,'Courier New',monospace\">Array d: <span style=\"font-weight: bold\">[[</span> <span style=\"color: #008080; text-decoration-color: #008080; font-weight: bold\">6</span>  <span style=\"color: #008080; text-decoration-color: #008080; font-weight: bold\">7</span>  <span style=\"color: #008080; text-decoration-color: #008080; font-weight: bold\">8</span>  <span style=\"color: #008080; text-decoration-color: #008080; font-weight: bold\">9</span> <span style=\"color: #008080; text-decoration-color: #008080; font-weight: bold\">10</span><span style=\"font-weight: bold\">]</span>\n",
       " <span style=\"font-weight: bold\">[</span><span style=\"color: #008080; text-decoration-color: #008080; font-weight: bold\">11</span> <span style=\"color: #008080; text-decoration-color: #008080; font-weight: bold\">12</span> <span style=\"color: #008080; text-decoration-color: #008080; font-weight: bold\">13</span> <span style=\"color: #008080; text-decoration-color: #008080; font-weight: bold\">14</span> <span style=\"color: #008080; text-decoration-color: #008080; font-weight: bold\">15</span><span style=\"font-weight: bold\">]]</span>\n",
       "</pre>\n"
      ],
      "text/plain": [
       "Array d: \u001b[1m[\u001b[0m\u001b[1m[\u001b[0m \u001b[1;36m6\u001b[0m  \u001b[1;36m7\u001b[0m  \u001b[1;36m8\u001b[0m  \u001b[1;36m9\u001b[0m \u001b[1;36m10\u001b[0m\u001b[1m]\u001b[0m\n",
       " \u001b[1m[\u001b[0m\u001b[1;36m11\u001b[0m \u001b[1;36m12\u001b[0m \u001b[1;36m13\u001b[0m \u001b[1;36m14\u001b[0m \u001b[1;36m15\u001b[0m\u001b[1m]\u001b[0m\u001b[1m]\u001b[0m\n"
      ]
     },
     "metadata": {},
     "output_type": "display_data"
    },
    {
     "data": {
      "text/html": [
       "<pre style=\"white-space:pre;overflow-x:auto;line-height:normal;font-family:Menlo,'DejaVu Sans Mono',consolas,'Courier New',monospace\">Erro: operands could not be broadcast together with shapes <span style=\"font-weight: bold\">(</span><span style=\"color: #008080; text-decoration-color: #008080; font-weight: bold\">2</span>,<span style=\"color: #008080; text-decoration-color: #008080; font-weight: bold\">5</span><span style=\"font-weight: bold\">)</span> <span style=\"font-weight: bold\">(</span><span style=\"color: #008080; text-decoration-color: #008080; font-weight: bold\">2</span>,<span style=\"color: #008080; text-decoration-color: #008080; font-weight: bold\">3</span><span style=\"font-weight: bold\">)</span>  - quantidade de colunas diferentes entre as\n",
       "matrizes\n",
       "</pre>\n"
      ],
      "text/plain": [
       "Erro: operands could not be broadcast together with shapes \u001b[1m(\u001b[0m\u001b[1;36m2\u001b[0m,\u001b[1;36m5\u001b[0m\u001b[1m)\u001b[0m \u001b[1m(\u001b[0m\u001b[1;36m2\u001b[0m,\u001b[1;36m3\u001b[0m\u001b[1m)\u001b[0m  - quantidade de colunas diferentes entre as\n",
       "matrizes\n"
      ]
     },
     "metadata": {},
     "output_type": "display_data"
    }
   ],
   "source": [
    "# Arrays\n",
    "\n",
    "array_a = np.array(list_a)\n",
    "rprint(f\"Array a: {array_a}\")\n",
    "array_b = array_a + 5\n",
    "rprint(f\"Array b: {array_b}\")\n",
    "\n",
    "array_c = np.array([[5], [10]])\n",
    "rprint(f\"Array c: {array_c}\")\n",
    "rprint(f\"Array c Shape: {array_c.shape}\")\n",
    "\n",
    "array_d = array_a + array_c\n",
    "rprint(f\"Array d: {array_d}\")\n",
    "\n",
    "array_tmp = np.array([[1, 2, 3], [4, 5, 6]])\n",
    "\n",
    "try:\n",
    "    array_e = array_d + array_tmp # Gerará um erro de valor\n",
    "except ValueError as e:\n",
    "    rprint(f\"Erro: {e} - quantidade de colunas diferentes entre as matrizes\")\n"
   ]
  },
  {
   "cell_type": "markdown",
   "id": "c2134b4a",
   "metadata": {},
   "source": [
    "## ndarray e atributos"
   ]
  },
  {
   "cell_type": "code",
   "execution_count": 77,
   "id": "26052b17",
   "metadata": {},
   "outputs": [
    {
     "data": {
      "text/html": [
       "<pre style=\"white-space:pre;overflow-x:auto;line-height:normal;font-family:Menlo,'DejaVu Sans Mono',consolas,'Courier New',monospace\">Array from list: <span style=\"font-weight: bold\">[</span><span style=\"color: #008080; text-decoration-color: #008080; font-weight: bold\">1</span> <span style=\"color: #008080; text-decoration-color: #008080; font-weight: bold\">2</span> <span style=\"color: #008080; text-decoration-color: #008080; font-weight: bold\">3</span> <span style=\"color: #008080; text-decoration-color: #008080; font-weight: bold\">4</span> <span style=\"color: #008080; text-decoration-color: #008080; font-weight: bold\">5</span><span style=\"font-weight: bold\">]</span>\n",
       "</pre>\n"
      ],
      "text/plain": [
       "Array from list: \u001b[1m[\u001b[0m\u001b[1;36m1\u001b[0m \u001b[1;36m2\u001b[0m \u001b[1;36m3\u001b[0m \u001b[1;36m4\u001b[0m \u001b[1;36m5\u001b[0m\u001b[1m]\u001b[0m\n"
      ]
     },
     "metadata": {},
     "output_type": "display_data"
    },
    {
     "data": {
      "text/html": [
       "<pre style=\"white-space:pre;overflow-x:auto;line-height:normal;font-family:Menlo,'DejaVu Sans Mono',consolas,'Courier New',monospace\"><span style=\"font-weight: bold\">[</span> <span style=\"color: #008080; text-decoration-color: #008080; font-weight: bold\">6</span>  <span style=\"color: #008080; text-decoration-color: #008080; font-weight: bold\">7</span>  <span style=\"color: #008080; text-decoration-color: #008080; font-weight: bold\">8</span>  <span style=\"color: #008080; text-decoration-color: #008080; font-weight: bold\">9</span> <span style=\"color: #008080; text-decoration-color: #008080; font-weight: bold\">10</span><span style=\"font-weight: bold\">]</span>\n",
       "</pre>\n"
      ],
      "text/plain": [
       "\u001b[1m[\u001b[0m \u001b[1;36m6\u001b[0m  \u001b[1;36m7\u001b[0m  \u001b[1;36m8\u001b[0m  \u001b[1;36m9\u001b[0m \u001b[1;36m10\u001b[0m\u001b[1m]\u001b[0m\n"
      ]
     },
     "metadata": {},
     "output_type": "display_data"
    },
    {
     "data": {
      "text/html": [
       "<pre style=\"white-space:pre;overflow-x:auto;line-height:normal;font-family:Menlo,'DejaVu Sans Mono',consolas,'Courier New',monospace\">Array from tuple: <span style=\"font-weight: bold\">[</span><span style=\"color: #008080; text-decoration-color: #008080; font-weight: bold\">1</span> <span style=\"color: #008080; text-decoration-color: #008080; font-weight: bold\">2</span> <span style=\"color: #008080; text-decoration-color: #008080; font-weight: bold\">3</span> <span style=\"color: #008080; text-decoration-color: #008080; font-weight: bold\">4</span> <span style=\"color: #008080; text-decoration-color: #008080; font-weight: bold\">5</span><span style=\"font-weight: bold\">]</span>\n",
       "</pre>\n"
      ],
      "text/plain": [
       "Array from tuple: \u001b[1m[\u001b[0m\u001b[1;36m1\u001b[0m \u001b[1;36m2\u001b[0m \u001b[1;36m3\u001b[0m \u001b[1;36m4\u001b[0m \u001b[1;36m5\u001b[0m\u001b[1m]\u001b[0m\n"
      ]
     },
     "metadata": {},
     "output_type": "display_data"
    },
    {
     "data": {
      "text/html": [
       "<pre style=\"white-space:pre;overflow-x:auto;line-height:normal;font-family:Menlo,'DejaVu Sans Mono',consolas,'Courier New',monospace\"><span style=\"font-weight: bold\">[</span> <span style=\"color: #008080; text-decoration-color: #008080; font-weight: bold\">7</span>  <span style=\"color: #008080; text-decoration-color: #008080; font-weight: bold\">8</span>  <span style=\"color: #008080; text-decoration-color: #008080; font-weight: bold\">9</span> <span style=\"color: #008080; text-decoration-color: #008080; font-weight: bold\">10</span> <span style=\"color: #008080; text-decoration-color: #008080; font-weight: bold\">11</span><span style=\"font-weight: bold\">]</span>\n",
       "</pre>\n"
      ],
      "text/plain": [
       "\u001b[1m[\u001b[0m \u001b[1;36m7\u001b[0m  \u001b[1;36m8\u001b[0m  \u001b[1;36m9\u001b[0m \u001b[1;36m10\u001b[0m \u001b[1;36m11\u001b[0m\u001b[1m]\u001b[0m\n"
      ]
     },
     "metadata": {},
     "output_type": "display_data"
    },
    {
     "data": {
      "text/html": [
       "<pre style=\"white-space:pre;overflow-x:auto;line-height:normal;font-family:Menlo,'DejaVu Sans Mono',consolas,'Courier New',monospace\">Array from set: <span style=\"font-weight: bold\">{</span><span style=\"color: #008080; text-decoration-color: #008080; font-weight: bold\">1</span>, <span style=\"color: #008080; text-decoration-color: #008080; font-weight: bold\">2</span>, <span style=\"color: #008080; text-decoration-color: #008080; font-weight: bold\">3</span>, <span style=\"color: #008080; text-decoration-color: #008080; font-weight: bold\">4</span>, <span style=\"color: #008080; text-decoration-color: #008080; font-weight: bold\">5</span><span style=\"font-weight: bold\">}</span>\n",
       "</pre>\n"
      ],
      "text/plain": [
       "Array from set: \u001b[1m{\u001b[0m\u001b[1;36m1\u001b[0m, \u001b[1;36m2\u001b[0m, \u001b[1;36m3\u001b[0m, \u001b[1;36m4\u001b[0m, \u001b[1;36m5\u001b[0m\u001b[1m}\u001b[0m\n"
      ]
     },
     "metadata": {},
     "output_type": "display_data"
    },
    {
     "data": {
      "text/html": [
       "<pre style=\"white-space:pre;overflow-x:auto;line-height:normal;font-family:Menlo,'DejaVu Sans Mono',consolas,'Courier New',monospace\">Erro: unsupported operand <span style=\"color: #800080; text-decoration-color: #800080; font-weight: bold\">type</span><span style=\"font-weight: bold\">(</span>s<span style=\"font-weight: bold\">)</span> for +: <span style=\"color: #008000; text-decoration-color: #008000\">'set'</span> and <span style=\"color: #008000; text-decoration-color: #008000\">'int'</span>\n",
       "</pre>\n"
      ],
      "text/plain": [
       "Erro: unsupported operand \u001b[1;35mtype\u001b[0m\u001b[1m(\u001b[0ms\u001b[1m)\u001b[0m for +: \u001b[32m'set'\u001b[0m and \u001b[32m'int'\u001b[0m\n"
      ]
     },
     "metadata": {},
     "output_type": "display_data"
    },
    {
     "data": {
      "text/html": [
       "<pre style=\"white-space:pre;overflow-x:auto;line-height:normal;font-family:Menlo,'DejaVu Sans Mono',consolas,'Courier New',monospace\">Array from dict: <span style=\"font-weight: bold\">{</span><span style=\"color: #008000; text-decoration-color: #008000\">'a'</span>: <span style=\"color: #008080; text-decoration-color: #008080; font-weight: bold\">1</span>, <span style=\"color: #008000; text-decoration-color: #008000\">'b'</span>: <span style=\"color: #008080; text-decoration-color: #008080; font-weight: bold\">2</span>, <span style=\"color: #008000; text-decoration-color: #008000\">'c'</span>: <span style=\"color: #008080; text-decoration-color: #008080; font-weight: bold\">3</span>, <span style=\"color: #008000; text-decoration-color: #008000\">'d'</span>: <span style=\"color: #008080; text-decoration-color: #008080; font-weight: bold\">4</span>, <span style=\"color: #008000; text-decoration-color: #008000\">'e'</span>: <span style=\"color: #008080; text-decoration-color: #008080; font-weight: bold\">5</span><span style=\"font-weight: bold\">}</span>\n",
       "</pre>\n"
      ],
      "text/plain": [
       "Array from dict: \u001b[1m{\u001b[0m\u001b[32m'a'\u001b[0m: \u001b[1;36m1\u001b[0m, \u001b[32m'b'\u001b[0m: \u001b[1;36m2\u001b[0m, \u001b[32m'c'\u001b[0m: \u001b[1;36m3\u001b[0m, \u001b[32m'd'\u001b[0m: \u001b[1;36m4\u001b[0m, \u001b[32m'e'\u001b[0m: \u001b[1;36m5\u001b[0m\u001b[1m}\u001b[0m\n"
      ]
     },
     "metadata": {},
     "output_type": "display_data"
    },
    {
     "data": {
      "text/html": [
       "<pre style=\"white-space:pre;overflow-x:auto;line-height:normal;font-family:Menlo,'DejaVu Sans Mono',consolas,'Courier New',monospace\">Erro: unsupported operand <span style=\"color: #800080; text-decoration-color: #800080; font-weight: bold\">type</span><span style=\"font-weight: bold\">(</span>s<span style=\"font-weight: bold\">)</span> for +: <span style=\"color: #008000; text-decoration-color: #008000\">'dict'</span> and <span style=\"color: #008000; text-decoration-color: #008000\">'int'</span>\n",
       "</pre>\n"
      ],
      "text/plain": [
       "Erro: unsupported operand \u001b[1;35mtype\u001b[0m\u001b[1m(\u001b[0ms\u001b[1m)\u001b[0m for +: \u001b[32m'dict'\u001b[0m and \u001b[32m'int'\u001b[0m\n"
      ]
     },
     "metadata": {},
     "output_type": "display_data"
    }
   ],
   "source": [
    "list_a = [1, 2, 3, 4, 5]\n",
    "array_from_list = np.array(list_a)\n",
    "rprint(f\"Array from list: {array_from_list}\")\n",
    "rprint(array_from_list + 5)\n",
    "\n",
    "tuple_a = (1, 2, 3, 4, 5)\n",
    "array_from_tuple = np.array(tuple_a)\n",
    "rprint(f\"Array from tuple: {array_from_tuple}\")\n",
    "rprint(array_from_tuple + 6)\n",
    "\n",
    "set_a = {1, 2, 3, 4, 5}\n",
    "array_from_set = np.array(set_a)\n",
    "rprint(f\"Array from set: {array_from_set}\")\n",
    "\n",
    "try:\n",
    "    rprint(array_from_set + 7)\n",
    "except TypeError as e:\n",
    "    rprint(f\"Erro: {e}\")\n",
    "    \n",
    "dict_a = {'a': 1, 'b': 2, 'c': 3, 'd': 4, 'e': 5}\n",
    "array_from_dict = np.array(dict_a)\n",
    "rprint(f\"Array from dict: {array_from_dict}\")\n",
    "\n",
    "try:\n",
    "    rprint(array_from_dict + 8)\n",
    "except TypeError as e:\n",
    "    rprint(f\"Erro: {e}\")"
   ]
  },
  {
   "cell_type": "markdown",
   "id": "e85e0f1d",
   "metadata": {},
   "source": [
    "## Dimensões"
   ]
  },
  {
   "cell_type": "code",
   "execution_count": null,
   "id": "be4e11a9",
   "metadata": {},
   "outputs": [],
   "source": [
    "# Array de 1D = Vetor\n",
    "array_1d = np.array([1, 2, 3, 4, 5])\n",
    "rprint(f\"Vetor:\\n {array_1d}\")"
   ]
  },
  {
   "cell_type": "code",
   "execution_count": 90,
   "id": "02750290",
   "metadata": {},
   "outputs": [
    {
     "data": {
      "text/html": [
       "<pre style=\"white-space:pre;overflow-x:auto;line-height:normal;font-family:Menlo,'DejaVu Sans Mono',consolas,'Courier New',monospace\">Pesquisar no vetor o valor: <span style=\"color: #008080; text-decoration-color: #008080; font-weight: bold\">5</span>\n",
       "</pre>\n"
      ],
      "text/plain": [
       "Pesquisar no vetor o valor: \u001b[1;36m5\u001b[0m\n"
      ]
     },
     "metadata": {},
     "output_type": "display_data"
    }
   ],
   "source": [
    "# Filtros\n",
    "rprint(f\"Pesquisar no vetor o valor: {random.choice(array_1d)}\")"
   ]
  },
  {
   "cell_type": "code",
   "execution_count": 92,
   "id": "fa82b1b4",
   "metadata": {},
   "outputs": [
    {
     "data": {
      "text/html": [
       "<pre style=\"white-space:pre;overflow-x:auto;line-height:normal;font-family:Menlo,'DejaVu Sans Mono',consolas,'Courier New',monospace\">Resultado: <span style=\"color: #008080; text-decoration-color: #008080; font-weight: bold\">5</span>\n",
       "</pre>\n"
      ],
      "text/plain": [
       "Resultado: \u001b[1;36m5\u001b[0m\n"
      ]
     },
     "metadata": {},
     "output_type": "display_data"
    }
   ],
   "source": [
    "rprint(f\"Resultado: {array_1d[4]}\")"
   ]
  },
  {
   "cell_type": "code",
   "execution_count": null,
   "id": "972c5ee0",
   "metadata": {},
   "outputs": [],
   "source": [
    "# Array de 2D = Matriz\n",
    "array_2d = np.array(\n",
    "    [\n",
    "        [1,  2,  3,  4,  5],\n",
    "        [6,  7,  8,  9,  10],\n",
    "        [11, 12, 13, 14, 15]\n",
    "    ]\n",
    ")\n",
    "rprint(f\"Matriz 2D:\\n {array_2d}\")"
   ]
  },
  {
   "cell_type": "code",
   "execution_count": 96,
   "id": "2c7de03e",
   "metadata": {},
   "outputs": [
    {
     "data": {
      "text/html": [
       "<pre style=\"white-space:pre;overflow-x:auto;line-height:normal;font-family:Menlo,'DejaVu Sans Mono',consolas,'Courier New',monospace\">Pesquisar na matriz 2d o valor: <span style=\"color: #008080; text-decoration-color: #008080; font-weight: bold\">3</span>\n",
       "</pre>\n"
      ],
      "text/plain": [
       "Pesquisar na matriz 2d o valor: \u001b[1;36m3\u001b[0m\n"
      ]
     },
     "metadata": {},
     "output_type": "display_data"
    }
   ],
   "source": [
    "# Filtros\n",
    "rprint(f\"Pesquisar na matriz 2d o valor: {random.randint(1, 15)}\")"
   ]
  },
  {
   "cell_type": "code",
   "execution_count": 97,
   "id": "f99cc27f",
   "metadata": {},
   "outputs": [
    {
     "data": {
      "text/html": [
       "<pre style=\"white-space:pre;overflow-x:auto;line-height:normal;font-family:Menlo,'DejaVu Sans Mono',consolas,'Courier New',monospace\">Resultado: <span style=\"color: #008080; text-decoration-color: #008080; font-weight: bold\">3</span>\n",
       "</pre>\n"
      ],
      "text/plain": [
       "Resultado: \u001b[1;36m3\u001b[0m\n"
      ]
     },
     "metadata": {},
     "output_type": "display_data"
    }
   ],
   "source": [
    "rprint(f\"Resultado: {array_2d[0][2]}\")"
   ]
  },
  {
   "cell_type": "code",
   "execution_count": null,
   "id": "89c4a051",
   "metadata": {},
   "outputs": [],
   "source": [
    "# Array de N dimensões\n",
    "array_3d = np.array(\n",
    "    [\n",
    "        [\n",
    "            [1,  2,  3,  4,  5],\n",
    "            [6,  7,  8,  9,  10],\n",
    "            [11, 12, 13, 14, 15]\n",
    "        ],\n",
    "        [\n",
    "            [16,  17,  18,  19,  20],\n",
    "            [21,  22,  23,  24,  25],\n",
    "            [26,  27,  28,  29,  30]\n",
    "        ]\n",
    "    ]\n",
    "    \n",
    ")\n",
    "rprint(f\"Matriz 3D (Tensor):\\n {array_3d}\")"
   ]
  },
  {
   "cell_type": "code",
   "execution_count": 98,
   "id": "46abf8e0",
   "metadata": {},
   "outputs": [
    {
     "data": {
      "text/html": [
       "<pre style=\"white-space:pre;overflow-x:auto;line-height:normal;font-family:Menlo,'DejaVu Sans Mono',consolas,'Courier New',monospace\">Pesquisar na matriz 3d o valor: <span style=\"color: #008080; text-decoration-color: #008080; font-weight: bold\">17</span>\n",
       "</pre>\n"
      ],
      "text/plain": [
       "Pesquisar na matriz 3d o valor: \u001b[1;36m17\u001b[0m\n"
      ]
     },
     "metadata": {},
     "output_type": "display_data"
    }
   ],
   "source": [
    "# Filtros\n",
    "rprint(f\"Pesquisar na matriz 3d o valor: {random.randint(1, 30)}\")"
   ]
  },
  {
   "cell_type": "code",
   "execution_count": 99,
   "id": "be83616c",
   "metadata": {},
   "outputs": [
    {
     "data": {
      "text/html": [
       "<pre style=\"white-space:pre;overflow-x:auto;line-height:normal;font-family:Menlo,'DejaVu Sans Mono',consolas,'Courier New',monospace\">Resultado: <span style=\"color: #008080; text-decoration-color: #008080; font-weight: bold\">17</span>\n",
       "</pre>\n"
      ],
      "text/plain": [
       "Resultado: \u001b[1;36m17\u001b[0m\n"
      ]
     },
     "metadata": {},
     "output_type": "display_data"
    }
   ],
   "source": [
    "rprint(f\"Resultado: {array_3d[1][0][1]}\")"
   ]
  },
  {
   "cell_type": "markdown",
   "id": "3e93def3",
   "metadata": {},
   "source": [
    "## Atributos do Array"
   ]
  },
  {
   "cell_type": "code",
   "execution_count": null,
   "id": "6a05a519",
   "metadata": {},
   "outputs": [
    {
     "data": {
      "text/html": [
       "<pre style=\"white-space:pre;overflow-x:auto;line-height:normal;font-family:Menlo,'DejaVu Sans Mono',consolas,'Courier New',monospace\"><span style=\"color: #008080; text-decoration-color: #008080; font-weight: bold\">5</span>\n",
       "</pre>\n"
      ],
      "text/plain": [
       "\u001b[1;36m5\u001b[0m\n"
      ]
     },
     "metadata": {},
     "output_type": "display_data"
    },
    {
     "data": {
      "text/html": [
       "<pre style=\"white-space:pre;overflow-x:auto;line-height:normal;font-family:Menlo,'DejaVu Sans Mono',consolas,'Courier New',monospace\"><span style=\"color: #008080; text-decoration-color: #008080; font-weight: bold\">15</span>\n",
       "</pre>\n"
      ],
      "text/plain": [
       "\u001b[1;36m15\u001b[0m\n"
      ]
     },
     "metadata": {},
     "output_type": "display_data"
    },
    {
     "data": {
      "text/html": [
       "<pre style=\"white-space:pre;overflow-x:auto;line-height:normal;font-family:Menlo,'DejaVu Sans Mono',consolas,'Courier New',monospace\"><span style=\"color: #008080; text-decoration-color: #008080; font-weight: bold\">30</span>\n",
       "</pre>\n"
      ],
      "text/plain": [
       "\u001b[1;36m30\u001b[0m\n"
      ]
     },
     "metadata": {},
     "output_type": "display_data"
    },
    {
     "data": {
      "text/plain": [
       "'\\nnp.array(\\n    [\\n        [\\n            [1,  2,  3,  4,  5],\\n            [6,  7,  8,  9,  10],\\n            [11, 12, 13, 14, 15]\\n        ],\\n        [\\n            [16,  17,  18,  19,  20],\\n            [21,  22,  23,  24,  25],\\n            [26,  27,  28,  29,  30]\\n        ]\\n    ]\\n\\n)\\n'"
      ]
     },
     "execution_count": 106,
     "metadata": {},
     "output_type": "execute_result"
    }
   ],
   "source": [
    "# Size\n",
    "rprint(array_1d.size) # np.array([1, 2, 3, 4, 5]\n",
    "rprint(array_2d.size)\n",
    "\"\"\"\n",
    "np.array(\n",
    "    [\n",
    "        [1,  2,  3,  4,  5],\n",
    "        [6,  7,  8,  9,  10],\n",
    "        [11, 12, 13, 14, 15]\n",
    "    ]\n",
    ")\n",
    "\"\"\"\n",
    "rprint(array_3d.size)\n",
    "\"\"\"\n",
    "np.array(\n",
    "    [\n",
    "        [\n",
    "            [1,  2,  3,  4,  5],\n",
    "            [6,  7,  8,  9,  10],\n",
    "            [11, 12, 13, 14, 15]\n",
    "        ],\n",
    "        [\n",
    "            [16,  17,  18,  19,  20],\n",
    "            [21,  22,  23,  24,  25],\n",
    "            [26,  27,  28,  29,  30]\n",
    "        ]\n",
    "    ]\n",
    "    \n",
    ")\n",
    "\"\"\""
   ]
  },
  {
   "cell_type": "code",
   "execution_count": 107,
   "id": "e158b181",
   "metadata": {},
   "outputs": [
    {
     "data": {
      "text/html": [
       "<pre style=\"white-space:pre;overflow-x:auto;line-height:normal;font-family:Menlo,'DejaVu Sans Mono',consolas,'Courier New',monospace\"><span style=\"color: #008080; text-decoration-color: #008080; font-weight: bold\">1</span>\n",
       "</pre>\n"
      ],
      "text/plain": [
       "\u001b[1;36m1\u001b[0m\n"
      ]
     },
     "metadata": {},
     "output_type": "display_data"
    },
    {
     "data": {
      "text/html": [
       "<pre style=\"white-space:pre;overflow-x:auto;line-height:normal;font-family:Menlo,'DejaVu Sans Mono',consolas,'Courier New',monospace\"><span style=\"color: #008080; text-decoration-color: #008080; font-weight: bold\">2</span>\n",
       "</pre>\n"
      ],
      "text/plain": [
       "\u001b[1;36m2\u001b[0m\n"
      ]
     },
     "metadata": {},
     "output_type": "display_data"
    },
    {
     "data": {
      "text/html": [
       "<pre style=\"white-space:pre;overflow-x:auto;line-height:normal;font-family:Menlo,'DejaVu Sans Mono',consolas,'Courier New',monospace\"><span style=\"color: #008080; text-decoration-color: #008080; font-weight: bold\">3</span>\n",
       "</pre>\n"
      ],
      "text/plain": [
       "\u001b[1;36m3\u001b[0m\n"
      ]
     },
     "metadata": {},
     "output_type": "display_data"
    }
   ],
   "source": [
    "# Dimensões\n",
    "rprint(array_1d.ndim) # 1D\n",
    "rprint(array_2d.ndim) # 2D\n",
    "rprint(array_3d.ndim) # 3D"
   ]
  },
  {
   "cell_type": "code",
   "execution_count": null,
   "id": "33e56301",
   "metadata": {},
   "outputs": [
    {
     "data": {
      "text/html": [
       "<pre style=\"white-space:pre;overflow-x:auto;line-height:normal;font-family:Menlo,'DejaVu Sans Mono',consolas,'Courier New',monospace\"><span style=\"font-weight: bold\">(</span><span style=\"color: #008080; text-decoration-color: #008080; font-weight: bold\">5</span>,<span style=\"font-weight: bold\">)</span>\n",
       "</pre>\n"
      ],
      "text/plain": [
       "\u001b[1m(\u001b[0m\u001b[1;36m5\u001b[0m,\u001b[1m)\u001b[0m\n"
      ]
     },
     "metadata": {},
     "output_type": "display_data"
    },
    {
     "data": {
      "text/html": [
       "<pre style=\"white-space:pre;overflow-x:auto;line-height:normal;font-family:Menlo,'DejaVu Sans Mono',consolas,'Courier New',monospace\"><span style=\"font-weight: bold\">(</span><span style=\"color: #008080; text-decoration-color: #008080; font-weight: bold\">3</span>, <span style=\"color: #008080; text-decoration-color: #008080; font-weight: bold\">5</span><span style=\"font-weight: bold\">)</span>\n",
       "</pre>\n"
      ],
      "text/plain": [
       "\u001b[1m(\u001b[0m\u001b[1;36m3\u001b[0m, \u001b[1;36m5\u001b[0m\u001b[1m)\u001b[0m\n"
      ]
     },
     "metadata": {},
     "output_type": "display_data"
    },
    {
     "data": {
      "text/html": [
       "<pre style=\"white-space:pre;overflow-x:auto;line-height:normal;font-family:Menlo,'DejaVu Sans Mono',consolas,'Courier New',monospace\"><span style=\"font-weight: bold\">(</span><span style=\"color: #008080; text-decoration-color: #008080; font-weight: bold\">2</span>, <span style=\"color: #008080; text-decoration-color: #008080; font-weight: bold\">3</span>, <span style=\"color: #008080; text-decoration-color: #008080; font-weight: bold\">5</span><span style=\"font-weight: bold\">)</span>\n",
       "</pre>\n"
      ],
      "text/plain": [
       "\u001b[1m(\u001b[0m\u001b[1;36m2\u001b[0m, \u001b[1;36m3\u001b[0m, \u001b[1;36m5\u001b[0m\u001b[1m)\u001b[0m\n"
      ]
     },
     "metadata": {},
     "output_type": "display_data"
    }
   ],
   "source": [
    "# Shape -> quantidade de linhas e colunas\n",
    "rprint(array_1d.shape) # 5 linhas, 0 colunas\n",
    "rprint(array_2d.shape) # 3 linhas, 5 colunas\n",
    "rprint(array_3d.shape) # 2 matrizes, 3 linhas e 5 colunas cada"
   ]
  },
  {
   "cell_type": "code",
   "execution_count": null,
   "id": "9cdb2cde",
   "metadata": {},
   "outputs": [
    {
     "data": {
      "text/html": [
       "<pre style=\"white-space:pre;overflow-x:auto;line-height:normal;font-family:Menlo,'DejaVu Sans Mono',consolas,'Courier New',monospace\"><span style=\"color: #008080; text-decoration-color: #008080; font-weight: bold\">8</span>\n",
       "</pre>\n"
      ],
      "text/plain": [
       "\u001b[1;36m8\u001b[0m\n"
      ]
     },
     "metadata": {},
     "output_type": "display_data"
    },
    {
     "data": {
      "text/html": [
       "<pre style=\"white-space:pre;overflow-x:auto;line-height:normal;font-family:Menlo,'DejaVu Sans Mono',consolas,'Courier New',monospace\"><span style=\"color: #008080; text-decoration-color: #008080; font-weight: bold\">8</span>\n",
       "</pre>\n"
      ],
      "text/plain": [
       "\u001b[1;36m8\u001b[0m\n"
      ]
     },
     "metadata": {},
     "output_type": "display_data"
    },
    {
     "data": {
      "text/html": [
       "<pre style=\"white-space:pre;overflow-x:auto;line-height:normal;font-family:Menlo,'DejaVu Sans Mono',consolas,'Courier New',monospace\"><span style=\"color: #008080; text-decoration-color: #008080; font-weight: bold\">8</span>\n",
       "</pre>\n"
      ],
      "text/plain": [
       "\u001b[1;36m8\u001b[0m\n"
      ]
     },
     "metadata": {},
     "output_type": "display_data"
    }
   ],
   "source": [
    "# itemsize quantidade de bits\n",
    "rprint(array_1d.itemsize)\n",
    "rprint(array_2d.itemsize)\n",
    "rprint(array_3d.itemsize)"
   ]
  },
  {
   "cell_type": "code",
   "execution_count": 114,
   "id": "eed54dbb",
   "metadata": {},
   "outputs": [
    {
     "data": {
      "text/html": [
       "<pre style=\"white-space:pre;overflow-x:auto;line-height:normal;font-family:Menlo,'DejaVu Sans Mono',consolas,'Courier New',monospace\">Quantidade de bytes: <span style=\"color: #008080; text-decoration-color: #008080; font-weight: bold\">40</span> que equivale a array_1d.size * array_1d.itemsize: <span style=\"color: #008080; text-decoration-color: #008080; font-weight: bold\">40</span>\n",
       "</pre>\n"
      ],
      "text/plain": [
       "Quantidade de bytes: \u001b[1;36m40\u001b[0m que equivale a array_1d.size * array_1d.itemsize: \u001b[1;36m40\u001b[0m\n"
      ]
     },
     "metadata": {},
     "output_type": "display_data"
    },
    {
     "data": {
      "text/html": [
       "<pre style=\"white-space:pre;overflow-x:auto;line-height:normal;font-family:Menlo,'DejaVu Sans Mono',consolas,'Courier New',monospace\">Quantidade de bytes: <span style=\"color: #008080; text-decoration-color: #008080; font-weight: bold\">120</span> que equivale a array_2d.size * array_2d.itemsize: <span style=\"color: #008080; text-decoration-color: #008080; font-weight: bold\">120</span>\n",
       "</pre>\n"
      ],
      "text/plain": [
       "Quantidade de bytes: \u001b[1;36m120\u001b[0m que equivale a array_2d.size * array_2d.itemsize: \u001b[1;36m120\u001b[0m\n"
      ]
     },
     "metadata": {},
     "output_type": "display_data"
    },
    {
     "data": {
      "text/html": [
       "<pre style=\"white-space:pre;overflow-x:auto;line-height:normal;font-family:Menlo,'DejaVu Sans Mono',consolas,'Courier New',monospace\">Quantidade de bytes: <span style=\"color: #008080; text-decoration-color: #008080; font-weight: bold\">240</span> que equivale a array_3d.size * array_3d.itemsize: <span style=\"color: #008080; text-decoration-color: #008080; font-weight: bold\">240</span>\n",
       "</pre>\n"
      ],
      "text/plain": [
       "Quantidade de bytes: \u001b[1;36m240\u001b[0m que equivale a array_3d.size * array_3d.itemsize: \u001b[1;36m240\u001b[0m\n"
      ]
     },
     "metadata": {},
     "output_type": "display_data"
    }
   ],
   "source": [
    "# nbytes\n",
    "rprint(f\"Quantidade de bytes: {array_1d.nbytes} que equivale a array_1d.size * array_1d.itemsize: {array_1d.size * array_1d.itemsize}\")\n",
    "rprint(f\"Quantidade de bytes: {array_2d.nbytes} que equivale a array_2d.size * array_2d.itemsize: {array_2d.size * array_2d.itemsize}\")\n",
    "rprint(f\"Quantidade de bytes: {array_3d.nbytes} que equivale a array_3d.size * array_3d.itemsize: {array_3d.size * array_3d.itemsize}\")"
   ]
  },
  {
   "cell_type": "code",
   "execution_count": 123,
   "id": "a2dd1c92",
   "metadata": {},
   "outputs": [
    {
     "data": {
      "text/html": [
       "<pre style=\"white-space:pre;overflow-x:auto;line-height:normal;font-family:Menlo,'DejaVu Sans Mono',consolas,'Courier New',monospace\">int32\n",
       "</pre>\n"
      ],
      "text/plain": [
       "int32\n"
      ]
     },
     "metadata": {},
     "output_type": "display_data"
    },
    {
     "data": {
      "text/html": [
       "<pre style=\"white-space:pre;overflow-x:auto;line-height:normal;font-family:Menlo,'DejaVu Sans Mono',consolas,'Courier New',monospace\">float64\n",
       "</pre>\n"
      ],
      "text/plain": [
       "float64\n"
      ]
     },
     "metadata": {},
     "output_type": "display_data"
    },
    {
     "data": {
      "text/html": [
       "<pre style=\"white-space:pre;overflow-x:auto;line-height:normal;font-family:Menlo,'DejaVu Sans Mono',consolas,'Courier New',monospace\">int64\n",
       "</pre>\n"
      ],
      "text/plain": [
       "int64\n"
      ]
     },
     "metadata": {},
     "output_type": "display_data"
    },
    {
     "data": {
      "text/html": [
       "<pre style=\"white-space:pre;overflow-x:auto;line-height:normal;font-family:Menlo,'DejaVu Sans Mono',consolas,'Courier New',monospace\">int32\n",
       "</pre>\n"
      ],
      "text/plain": [
       "int32\n"
      ]
     },
     "metadata": {},
     "output_type": "display_data"
    },
    {
     "data": {
      "text/html": [
       "<pre style=\"white-space:pre;overflow-x:auto;line-height:normal;font-family:Menlo,'DejaVu Sans Mono',consolas,'Courier New',monospace\">float64\n",
       "</pre>\n"
      ],
      "text/plain": [
       "float64\n"
      ]
     },
     "metadata": {},
     "output_type": "display_data"
    },
    {
     "data": {
      "text/html": [
       "<pre style=\"white-space:pre;overflow-x:auto;line-height:normal;font-family:Menlo,'DejaVu Sans Mono',consolas,'Courier New',monospace\"><span style=\"font-weight: bold\">[[</span><span style=\"color: #008080; text-decoration-color: #008080; font-weight: bold\">4.9e-324</span> <span style=\"color: #008080; text-decoration-color: #008080; font-weight: bold\">9.9e-324</span> <span style=\"color: #008080; text-decoration-color: #008080; font-weight: bold\">1.5e-323</span> <span style=\"color: #008080; text-decoration-color: #008080; font-weight: bold\">2.0e-323</span> <span style=\"color: #008080; text-decoration-color: #008080; font-weight: bold\">2.5e-323</span><span style=\"font-weight: bold\">]</span>\n",
       " <span style=\"font-weight: bold\">[</span><span style=\"color: #008080; text-decoration-color: #008080; font-weight: bold\">3.0e-323</span> <span style=\"color: #008080; text-decoration-color: #008080; font-weight: bold\">3.5e-323</span> <span style=\"color: #008080; text-decoration-color: #008080; font-weight: bold\">4.0e-323</span> <span style=\"color: #008080; text-decoration-color: #008080; font-weight: bold\">4.4e-323</span> <span style=\"color: #008080; text-decoration-color: #008080; font-weight: bold\">4.9e-323</span><span style=\"font-weight: bold\">]</span>\n",
       " <span style=\"font-weight: bold\">[</span><span style=\"color: #008080; text-decoration-color: #008080; font-weight: bold\">5.4e-323</span> <span style=\"color: #008080; text-decoration-color: #008080; font-weight: bold\">5.9e-323</span> <span style=\"color: #008080; text-decoration-color: #008080; font-weight: bold\">6.4e-323</span> <span style=\"color: #008080; text-decoration-color: #008080; font-weight: bold\">6.9e-323</span> <span style=\"color: #008080; text-decoration-color: #008080; font-weight: bold\">7.4e-323</span><span style=\"font-weight: bold\">]]</span>\n",
       "</pre>\n"
      ],
      "text/plain": [
       "\u001b[1m[\u001b[0m\u001b[1m[\u001b[0m\u001b[1;36m4.9e-324\u001b[0m \u001b[1;36m9.9e-324\u001b[0m \u001b[1;36m1.5e-323\u001b[0m \u001b[1;36m2.0e-323\u001b[0m \u001b[1;36m2.5e-323\u001b[0m\u001b[1m]\u001b[0m\n",
       " \u001b[1m[\u001b[0m\u001b[1;36m3.0e-323\u001b[0m \u001b[1;36m3.5e-323\u001b[0m \u001b[1;36m4.0e-323\u001b[0m \u001b[1;36m4.4e-323\u001b[0m \u001b[1;36m4.9e-323\u001b[0m\u001b[1m]\u001b[0m\n",
       " \u001b[1m[\u001b[0m\u001b[1;36m5.4e-323\u001b[0m \u001b[1;36m5.9e-323\u001b[0m \u001b[1;36m6.4e-323\u001b[0m \u001b[1;36m6.9e-323\u001b[0m \u001b[1;36m7.4e-323\u001b[0m\u001b[1m]\u001b[0m\u001b[1m]\u001b[0m\n"
      ]
     },
     "metadata": {},
     "output_type": "display_data"
    }
   ],
   "source": [
    "# dtypes\n",
    "rprint(array_1d.dtype)\n",
    "rprint(array_2d.dtype)\n",
    "rprint(array_3d.dtype)\n",
    "\n",
    "# Alterando\n",
    "array_1d.dtype = np.int32\n",
    "rprint(array_1d.dtype)\n",
    "array_2d.dtype = np.float64\n",
    "rprint(array_2d.dtype)\n",
    "rprint(array_2d)"
   ]
  },
  {
   "cell_type": "code",
   "execution_count": null,
   "id": "664f629a",
   "metadata": {},
   "outputs": [],
   "source": []
  }
 ],
 "metadata": {
  "kernelspec": {
   "display_name": "Python 3 (ipykernel)",
   "language": "python",
   "name": "python3"
  },
  "language_info": {
   "codemirror_mode": {
    "name": "ipython",
    "version": 3
   },
   "file_extension": ".py",
   "mimetype": "text/x-python",
   "name": "python",
   "nbconvert_exporter": "python",
   "pygments_lexer": "ipython3",
   "version": "3.13.5"
  }
 },
 "nbformat": 4,
 "nbformat_minor": 5
}
